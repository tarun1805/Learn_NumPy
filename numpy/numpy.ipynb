{
 "cells": [
  {
   "cell_type": "markdown",
   "metadata": {},
   "source": [
    "# Numpy"
   ]
  },
  {
   "cell_type": "markdown",
   "metadata": {},
   "source": [
    "## Importing the libraries "
   ]
  },
  {
   "cell_type": "code",
   "execution_count": 2,
   "metadata": {},
   "outputs": [],
   "source": [
    "import numpy as np"
   ]
  },
  {
   "cell_type": "markdown",
   "metadata": {},
   "source": [
    "## Note: All elements of an array should be of the same type"
   ]
  },
  {
   "cell_type": "code",
   "execution_count": 4,
   "metadata": {},
   "outputs": [
    {
     "data": {
      "text/plain": [
       "[1, 3.24, 3, 7, 93]"
      ]
     },
     "execution_count": 4,
     "metadata": {},
     "output_type": "execute_result"
    }
   ],
   "source": [
    "list_1 = [1, 3.24, 3, 7, 93]\n",
    "list_1"
   ]
  },
  {
   "cell_type": "code",
   "execution_count": 7,
   "metadata": {},
   "outputs": [
    {
     "data": {
      "text/plain": [
       "array([ 1,  3,  3,  7, 93])"
      ]
     },
     "execution_count": 7,
     "metadata": {},
     "output_type": "execute_result"
    }
   ],
   "source": [
    "arr = np.array([1, 3, 3, 7, 93])\n",
    "arr"
   ]
  },
  {
   "cell_type": "code",
   "execution_count": 10,
   "metadata": {},
   "outputs": [
    {
     "data": {
      "text/plain": [
       "array([ 1.  ,  3.24,  3.  ,  7.  , 93.  ])"
      ]
     },
     "execution_count": 10,
     "metadata": {},
     "output_type": "execute_result"
    }
   ],
   "source": [
    "arr = np.array([1, 3.24, 3, 7, 93])\n",
    "arr"
   ]
  },
  {
   "cell_type": "markdown",
   "metadata": {},
   "source": [
    "#### Why numpy arrays?"
   ]
  },
  {
   "cell_type": "markdown",
   "metadata": {},
   "source": [
    "We cannot perform mathematical operations on 2 lists, but we can perform mathematical operations on 2 numpy arrays"
   ]
  },
  {
   "cell_type": "code",
   "execution_count": 3,
   "metadata": {},
   "outputs": [
    {
     "name": "stdout",
     "output_type": "stream",
     "text": [
      "[1, 2, 3, 4, 5, 5, 4, 3, 2, 1]\n"
     ]
    }
   ],
   "source": [
    "list_1 = [1, 2, 3, 4, 5]\n",
    "list_2 = [5, 4, 3, 2, 1]\n",
    "\n",
    "list_3 = list_1 + list_2\n",
    "#You might expect [6, 6, 6, 6, 6] to be the value of list_3 but the value of list_3 is :-\n",
    "print(list_3)"
   ]
  },
  {
   "cell_type": "markdown",
   "metadata": {},
   "source": [
    "We cannot perform math operations on 2 or more lists but we can perform math operations on 2 or more numpy arrays"
   ]
  },
  {
   "cell_type": "markdown",
   "metadata": {},
   "source": [
    "To create a numpy array we need to use the 'array' function from numpy"
   ]
  },
  {
   "cell_type": "code",
   "execution_count": 4,
   "metadata": {},
   "outputs": [
    {
     "name": "stdout",
     "output_type": "stream",
     "text": [
      "[6 6 6 6 6]\n"
     ]
    }
   ],
   "source": [
    "arr_1 = np.array([1,2,3,4,5])\n",
    "arr_2 = np.array([5,4,3,2,1])\n",
    "\n",
    "arr_3 = arr_1 + arr_2\n",
    "\n",
    "#Output: [6 6 6 6 6]\n",
    "print(arr_3)"
   ]
  },
  {
   "cell_type": "markdown",
   "metadata": {},
   "source": [
    "## Creating numpy arrays from python lists"
   ]
  },
  {
   "cell_type": "code",
   "execution_count": 5,
   "metadata": {},
   "outputs": [],
   "source": [
    "#To create a numpy array from a list, we need to use the 'array' function from numpy\n",
    "num_arr = np.array([2, 1, 4, 46, 35])"
   ]
  },
  {
   "cell_type": "code",
   "execution_count": 6,
   "metadata": {},
   "outputs": [
    {
     "name": "stdout",
     "output_type": "stream",
     "text": [
      "[1.   2.   3.14 8.  ]\n"
     ]
    }
   ],
   "source": [
    "#Elements of an array should be of same type, if type does not match, NumPy will upcast it if possible, for example:-\n",
    "#if we create an array whos elements types are int and float. Numpy will upcast the type of all elements to float\n",
    "\n",
    "arr = np.array([1, 2, 3.14, 8])\n",
    "\n",
    "print(arr)"
   ]
  },
  {
   "cell_type": "code",
   "execution_count": 7,
   "metadata": {},
   "outputs": [
    {
     "data": {
      "text/plain": [
       "numpy.float64"
      ]
     },
     "execution_count": 7,
     "metadata": {},
     "output_type": "execute_result"
    }
   ],
   "source": [
    "type(arr[0])"
   ]
  },
  {
   "cell_type": "markdown",
   "metadata": {},
   "source": [
    "## Creating arrays from numpy's built in functions"
   ]
  },
  {
   "cell_type": "code",
   "execution_count": 13,
   "metadata": {},
   "outputs": [
    {
     "name": "stdout",
     "output_type": "stream",
     "text": [
      "[0 1 2 3 4]\n",
      "[ 6.  7.  8.  9. 10.]\n",
      "[10 12 14 16 18 20]\n"
     ]
    }
   ],
   "source": [
    "# Creating a numpy array using numpy's 'arange' function\n",
    "\n",
    "# np.arange(start, stop, step, dtype)\n",
    "#Creates a numpy array containing elements between 0 to 4 (It wont include 5 because it is exclusive)\n",
    "range_arr = np.arange(5)\n",
    "print(range_arr)\n",
    "\n",
    "#Creates an array containing elements between 6 to 10 (It wont include 11 because it is exclusive)\n",
    "range_arr1 = np.arange(6, 11, dtype=float)\n",
    "print(range_arr1)\n",
    "\n",
    "#Creates an array containing even numbers between 10 to 20\n",
    "range_arr2 = np.arange(10, 21, 2)\n",
    "print(range_arr2)"
   ]
  },
  {
   "cell_type": "code",
   "execution_count": 15,
   "metadata": {},
   "outputs": [
    {
     "name": "stdout",
     "output_type": "stream",
     "text": [
      "[0 0 0 0 0]\n"
     ]
    }
   ],
   "source": [
    "#Creating a numpy array filled with zeros using 'zeros' function\n",
    "\n",
    "#np.zeros(length of array, dtype)\n",
    "arr_zero = np.zeros(5, dtype=int)\n",
    "print(arr_zero)"
   ]
  },
  {
   "cell_type": "code",
   "execution_count": 10,
   "metadata": {},
   "outputs": [
    {
     "name": "stdout",
     "output_type": "stream",
     "text": [
      "[1. 1. 1. 1. 1.]\n"
     ]
    }
   ],
   "source": [
    "#Creating a numpy array filled with ones using 'ones' function\n",
    "\n",
    "#np.ones(length of array, dtype)\n",
    "arr_ones = np.ones(5, dtype=float)\n",
    "print(arr_ones)"
   ]
  },
  {
   "cell_type": "code",
   "execution_count": 11,
   "metadata": {},
   "outputs": [
    {
     "name": "stdout",
     "output_type": "stream",
     "text": [
      "[0.   0.25 0.5  0.75 1.  ]\n"
     ]
    }
   ],
   "source": [
    "#Return an array with evenly spaced numbers over a specified interval using 'linspace' function\n",
    "\n",
    "#np.linspace(start, stop, num, dtype)\n",
    "arr_lin = np.linspace(0, 1, 5)\n",
    "print(arr_lin)"
   ]
  },
  {
   "cell_type": "code",
   "execution_count": 12,
   "metadata": {},
   "outputs": [
    {
     "name": "stdout",
     "output_type": "stream",
     "text": [
      "['Seven Bytes' 'Seven Bytes' 'Seven Bytes' 'Seven Bytes' 'Seven Bytes']\n"
     ]
    }
   ],
   "source": [
    "#Create an array and fill it with a value using 'full' function\n",
    "\n",
    "#np.full(shape, value)\n",
    "arr_full = np.full(5, 'Seven Bytes')\n",
    "print(arr_full)"
   ]
  },
  {
   "cell_type": "code",
   "execution_count": 13,
   "metadata": {},
   "outputs": [
    {
     "name": "stdout",
     "output_type": "stream",
     "text": [
      "[0.96702984 0.54723225 0.97268436 0.71481599 0.69772882]\n"
     ]
    }
   ],
   "source": [
    "# np.random.seed() is used, so that we get the same values every time we run it\n",
    "np.random.seed(4)\n",
    "\n",
    "#Creating an array filled with random values between 0 and 1 using numpy's np.random.random() finction\n",
    "arr_random = np.random.random(5)\n",
    "print(arr_random)"
   ]
  },
  {
   "cell_type": "code",
   "execution_count": 14,
   "metadata": {},
   "outputs": [
    {
     "data": {
      "text/plain": [
       "array([[12, 13, 10],\n",
       "       [17, 11, 11]])"
      ]
     },
     "execution_count": 14,
     "metadata": {},
     "output_type": "execute_result"
    }
   ],
   "source": [
    "np.random.seed(24)\n",
    "\n",
    "# Creating an array filled with random integers between a specified range using np.random.randint()\n",
    "np.random.randint(10, 20, (2, 3))"
   ]
  },
  {
   "cell_type": "markdown",
   "metadata": {},
   "source": [
    "np.random.choice() randomly picks a number in a specified range"
   ]
  },
  {
   "cell_type": "code",
   "execution_count": 157,
   "metadata": {},
   "outputs": [
    {
     "data": {
      "text/plain": [
       "6"
      ]
     },
     "execution_count": 157,
     "metadata": {},
     "output_type": "execute_result"
    }
   ],
   "source": [
    "np.random.choice(range(10))"
   ]
  },
  {
   "cell_type": "code",
   "execution_count": 164,
   "metadata": {},
   "outputs": [
    {
     "data": {
      "text/plain": [
       "array([9, 6, 4, 2, 0, 7, 5, 3, 8, 1])"
      ]
     },
     "execution_count": 164,
     "metadata": {},
     "output_type": "execute_result"
    }
   ],
   "source": [
    "#np.random.permutation() returns a randomly shuffled array of values in a specified range\n",
    "np.random.permutation(range(10))"
   ]
  },
  {
   "cell_type": "code",
   "execution_count": 15,
   "metadata": {},
   "outputs": [
    {
     "data": {
      "text/plain": [
       "array([[1., 0., 0., 0., 0.],\n",
       "       [0., 1., 0., 0., 0.],\n",
       "       [0., 0., 1., 0., 0.],\n",
       "       [0., 0., 0., 1., 0.],\n",
       "       [0., 0., 0., 0., 1.]])"
      ]
     },
     "execution_count": 15,
     "metadata": {},
     "output_type": "execute_result"
    }
   ],
   "source": [
    "#Create an identity matrix using np.eye()\n",
    "np.eye(5)"
   ]
  },
  {
   "cell_type": "markdown",
   "metadata": {},
   "source": [
    "## Numpy array attributes"
   ]
  },
  {
   "cell_type": "code",
   "execution_count": 16,
   "metadata": {},
   "outputs": [
    {
     "data": {
      "text/plain": [
       "array([[11, 14, 14, 13, 12],\n",
       "       [13, 13, 17, 19, 12]])"
      ]
     },
     "execution_count": 16,
     "metadata": {},
     "output_type": "execute_result"
    }
   ],
   "source": [
    "int_arr = np.random.randint(10, 21, size = (2, 5))\n",
    "int_arr"
   ]
  },
  {
   "cell_type": "markdown",
   "metadata": {},
   "source": [
    "#### 'ndim' returns the number of dimensions of the array"
   ]
  },
  {
   "cell_type": "code",
   "execution_count": 17,
   "metadata": {},
   "outputs": [
    {
     "data": {
      "text/plain": [
       "2"
      ]
     },
     "execution_count": 17,
     "metadata": {},
     "output_type": "execute_result"
    }
   ],
   "source": [
    "int_arr.ndim"
   ]
  },
  {
   "cell_type": "markdown",
   "metadata": {},
   "source": [
    "#### 'shape' attribute returns the size of an array"
   ]
  },
  {
   "cell_type": "code",
   "execution_count": 18,
   "metadata": {},
   "outputs": [
    {
     "data": {
      "text/plain": [
       "(2, 5)"
      ]
     },
     "execution_count": 18,
     "metadata": {},
     "output_type": "execute_result"
    }
   ],
   "source": [
    "int_arr.shape"
   ]
  },
  {
   "cell_type": "markdown",
   "metadata": {},
   "source": [
    "#### 'size' attribute returns the number of elements in the array"
   ]
  },
  {
   "cell_type": "code",
   "execution_count": 19,
   "metadata": {},
   "outputs": [
    {
     "data": {
      "text/plain": [
       "10"
      ]
     },
     "execution_count": 19,
     "metadata": {},
     "output_type": "execute_result"
    }
   ],
   "source": [
    "int_arr.size"
   ]
  },
  {
   "cell_type": "markdown",
   "metadata": {},
   "source": [
    "#### 'dtype' attribute returns the data type of the array"
   ]
  },
  {
   "cell_type": "code",
   "execution_count": 20,
   "metadata": {},
   "outputs": [
    {
     "data": {
      "text/plain": [
       "dtype('int32')"
      ]
     },
     "execution_count": 20,
     "metadata": {},
     "output_type": "execute_result"
    }
   ],
   "source": [
    "int_arr.dtype"
   ]
  },
  {
   "cell_type": "markdown",
   "metadata": {},
   "source": [
    "#### 'itemsize' attribute returns the size of of each array element"
   ]
  },
  {
   "cell_type": "code",
   "execution_count": 21,
   "metadata": {},
   "outputs": [
    {
     "data": {
      "text/plain": [
       "4"
      ]
     },
     "execution_count": 21,
     "metadata": {},
     "output_type": "execute_result"
    }
   ],
   "source": [
    "int_arr.itemsize"
   ]
  },
  {
   "cell_type": "markdown",
   "metadata": {},
   "source": [
    "#### 'nbytes' attribute returns the size of the complete array"
   ]
  },
  {
   "cell_type": "code",
   "execution_count": 22,
   "metadata": {},
   "outputs": [
    {
     "data": {
      "text/plain": [
       "40"
      ]
     },
     "execution_count": 22,
     "metadata": {},
     "output_type": "execute_result"
    }
   ],
   "source": [
    "int_arr.nbytes"
   ]
  },
  {
   "cell_type": "markdown",
   "metadata": {},
   "source": [
    "## Accessing elements of a numpy array"
   ]
  },
  {
   "cell_type": "markdown",
   "metadata": {},
   "source": [
    "Accessing elements of a numpy array is similar to accessing elements of a python list"
   ]
  },
  {
   "cell_type": "code",
   "execution_count": 23,
   "metadata": {},
   "outputs": [
    {
     "name": "stdout",
     "output_type": "stream",
     "text": [
      "[3 4 1 4 2]\n"
     ]
    }
   ],
   "source": [
    "np.random.seed(24)\n",
    "\n",
    "#Creating an array of size 5 whose values are between 1,5\n",
    "a = np.random.randint(1, 5, size = 5)\n",
    "print(a)"
   ]
  },
  {
   "cell_type": "markdown",
   "metadata": {},
   "source": [
    "Indexes of an array start from 0, just like python lists. So if an array has n elements and if you want to access the i th value then the syntax would be like :-\n",
    "array_name[i th value position - 1]"
   ]
  },
  {
   "cell_type": "code",
   "execution_count": 24,
   "metadata": {},
   "outputs": [
    {
     "data": {
      "text/plain": [
       "1"
      ]
     },
     "execution_count": 24,
     "metadata": {},
     "output_type": "execute_result"
    }
   ],
   "source": [
    "# To access the 3rd value of array 'a'\n",
    "#a[3-1]\n",
    "a[2]"
   ]
  },
  {
   "cell_type": "code",
   "execution_count": 25,
   "metadata": {},
   "outputs": [
    {
     "name": "stdout",
     "output_type": "stream",
     "text": [
      "[[3 4 1 4 2]\n",
      " [2 2 1 4 4]]\n"
     ]
    }
   ],
   "source": [
    "np.random.seed(24)\n",
    "\n",
    "#Creating a two dimensional array of size 2,5 whose values are between 1,5\n",
    "a2 = np.random.randint(1, 5, size = (2,5))\n",
    "print(a2)"
   ]
  },
  {
   "cell_type": "code",
   "execution_count": 26,
   "metadata": {},
   "outputs": [
    {
     "data": {
      "text/plain": [
       "1"
      ]
     },
     "execution_count": 26,
     "metadata": {},
     "output_type": "execute_result"
    }
   ],
   "source": [
    "a2[1, 2]"
   ]
  },
  {
   "cell_type": "markdown",
   "metadata": {},
   "source": [
    "## Negative Index in python"
   ]
  },
  {
   "attachments": {
    "neg_ind.jpg": {
     "image/jpeg": "[encoded data removed]"
    }
   },
   "cell_type": "markdown",
   "metadata": {},
   "source": [
    "![neg_ind.jpg](attachment:neg_ind.jpg)"
   ]
  },
  {
   "cell_type": "code",
   "execution_count": 27,
   "metadata": {},
   "outputs": [
    {
     "data": {
      "text/plain": [
       "2"
      ]
     },
     "execution_count": 27,
     "metadata": {},
     "output_type": "execute_result"
    }
   ],
   "source": [
    "a[-1]"
   ]
  },
  {
   "cell_type": "code",
   "execution_count": 28,
   "metadata": {},
   "outputs": [
    {
     "data": {
      "text/plain": [
       "1"
      ]
     },
     "execution_count": 28,
     "metadata": {},
     "output_type": "execute_result"
    }
   ],
   "source": [
    "a2[-1, -3]"
   ]
  },
  {
   "cell_type": "markdown",
   "metadata": {},
   "source": [
    "## Accessing subarrays"
   ]
  },
  {
   "cell_type": "markdown",
   "metadata": {},
   "source": [
    "To access a section of an array: array_name[start_element_index, stop_element_index, step]"
   ]
  },
  {
   "cell_type": "code",
   "execution_count": 29,
   "metadata": {},
   "outputs": [
    {
     "data": {
      "text/plain": [
       "array([3, 4, 1, 4, 2])"
      ]
     },
     "execution_count": 29,
     "metadata": {},
     "output_type": "execute_result"
    }
   ],
   "source": [
    "a"
   ]
  },
  {
   "cell_type": "code",
   "execution_count": 30,
   "metadata": {},
   "outputs": [
    {
     "data": {
      "text/plain": [
       "array([4, 1, 4])"
      ]
     },
     "execution_count": 30,
     "metadata": {},
     "output_type": "execute_result"
    }
   ],
   "source": [
    "a3 = a[1:4]\n",
    "a3"
   ]
  },
  {
   "cell_type": "code",
   "execution_count": 31,
   "metadata": {},
   "outputs": [
    {
     "data": {
      "text/plain": [
       "array([1, 4, 2])"
      ]
     },
     "execution_count": 31,
     "metadata": {},
     "output_type": "execute_result"
    }
   ],
   "source": [
    "a4 = a[2:]\n",
    "a4"
   ]
  },
  {
   "cell_type": "code",
   "execution_count": 32,
   "metadata": {},
   "outputs": [
    {
     "data": {
      "text/plain": [
       "array([3, 4])"
      ]
     },
     "execution_count": 32,
     "metadata": {},
     "output_type": "execute_result"
    }
   ],
   "source": [
    "a5 = a[:2]\n",
    "a5"
   ]
  },
  {
   "cell_type": "code",
   "execution_count": 33,
   "metadata": {},
   "outputs": [
    {
     "data": {
      "text/plain": [
       "array([3, 1, 2])"
      ]
     },
     "execution_count": 33,
     "metadata": {},
     "output_type": "execute_result"
    }
   ],
   "source": [
    "#every other element of an array\n",
    "a_step = a[::2]\n",
    "a_step"
   ]
  },
  {
   "cell_type": "code",
   "execution_count": 34,
   "metadata": {},
   "outputs": [
    {
     "data": {
      "text/plain": [
       "array([4, 4])"
      ]
     },
     "execution_count": 34,
     "metadata": {},
     "output_type": "execute_result"
    }
   ],
   "source": [
    "a_step_1 = a[1::2]\n",
    "a_step_1"
   ]
  },
  {
   "cell_type": "markdown",
   "metadata": {},
   "source": [
    "When using negative indexes the start and stop are swapped"
   ]
  },
  {
   "cell_type": "code",
   "execution_count": 35,
   "metadata": {},
   "outputs": [
    {
     "data": {
      "text/plain": [
       "array([2, 4, 1, 4, 3])"
      ]
     },
     "execution_count": 35,
     "metadata": {},
     "output_type": "execute_result"
    }
   ],
   "source": [
    "#reverses the elements of array\n",
    "a_neg = a[::-1]\n",
    "a_neg"
   ]
  },
  {
   "cell_type": "markdown",
   "metadata": {},
   "source": [
    "Access a section of an array using colon"
   ]
  },
  {
   "cell_type": "code",
   "execution_count": 36,
   "metadata": {},
   "outputs": [
    {
     "data": {
      "text/plain": [
       "array([[5, 4, 3, 4, 4],\n",
       "       [8, 3, 8, 8, 4],\n",
       "       [1, 2, 2, 8, 7],\n",
       "       [2, 2, 7, 2, 7],\n",
       "       [4, 1, 2, 2, 4]])"
      ]
     },
     "execution_count": 36,
     "metadata": {},
     "output_type": "execute_result"
    }
   ],
   "source": [
    "a_2d = np.random.randint(1, 10, (5, 5))\n",
    "a_2d"
   ]
  },
  {
   "cell_type": "code",
   "execution_count": 37,
   "metadata": {},
   "outputs": [
    {
     "data": {
      "text/plain": [
       "array([[5, 4],\n",
       "       [8, 3]])"
      ]
     },
     "execution_count": 37,
     "metadata": {},
     "output_type": "execute_result"
    }
   ],
   "source": [
    "a_2d[:2, :2]"
   ]
  },
  {
   "cell_type": "code",
   "execution_count": 38,
   "metadata": {},
   "outputs": [
    {
     "data": {
      "text/plain": [
       "array([[5, 3, 4],\n",
       "       [8, 8, 4],\n",
       "       [1, 2, 7],\n",
       "       [2, 7, 7],\n",
       "       [4, 2, 4]])"
      ]
     },
     "execution_count": 38,
     "metadata": {},
     "output_type": "execute_result"
    }
   ],
   "source": [
    "a_2d[:, ::2]"
   ]
  },
  {
   "cell_type": "markdown",
   "metadata": {},
   "source": [
    "## Reassigning values of an array"
   ]
  },
  {
   "cell_type": "code",
   "execution_count": 39,
   "metadata": {},
   "outputs": [
    {
     "data": {
      "text/plain": [
       "array([5, 6, 7, 8, 9])"
      ]
     },
     "execution_count": 39,
     "metadata": {},
     "output_type": "execute_result"
    }
   ],
   "source": [
    "a_rea = np.arange(5, 10)\n",
    "a_rea"
   ]
  },
  {
   "cell_type": "code",
   "execution_count": 40,
   "metadata": {},
   "outputs": [
    {
     "name": "stdout",
     "output_type": "stream",
     "text": [
      "[5 6 7 8 9]\n"
     ]
    }
   ],
   "source": [
    "# lets create a new array\n",
    "a_rea1 = a_rea\n",
    "print(a_rea1)"
   ]
  },
  {
   "cell_type": "markdown",
   "metadata": {},
   "source": [
    "The value of 'a_rea' and 'a_rea1' are same, so lets change it"
   ]
  },
  {
   "cell_type": "code",
   "execution_count": 41,
   "metadata": {},
   "outputs": [],
   "source": [
    "#lets change the value of 3rd element of 'a_rea1' array\n",
    "a_rea1[2] = 25"
   ]
  },
  {
   "cell_type": "code",
   "execution_count": 42,
   "metadata": {},
   "outputs": [
    {
     "name": "stdout",
     "output_type": "stream",
     "text": [
      "[ 5  6 25  8  9]\n"
     ]
    }
   ],
   "source": [
    "print(a_rea1)"
   ]
  },
  {
   "cell_type": "markdown",
   "metadata": {},
   "source": [
    "Great!!! the value of third element has changed"
   ]
  },
  {
   "cell_type": "markdown",
   "metadata": {},
   "source": [
    "But are the values of 'a_rea' and 'a_rea1' arrays same or different??"
   ]
  },
  {
   "cell_type": "code",
   "execution_count": 43,
   "metadata": {},
   "outputs": [
    {
     "name": "stdout",
     "output_type": "stream",
     "text": [
      "[ 5  6 25  8  9]\n",
      "[ 5  6 25  8  9]\n"
     ]
    }
   ],
   "source": [
    "print(a_rea)\n",
    "print(a_rea1)"
   ]
  },
  {
   "cell_type": "markdown",
   "metadata": {},
   "source": [
    "OMG!! Why did the value change in both arrays"
   ]
  },
  {
   "cell_type": "markdown",
   "metadata": {},
   "source": [
    "In order to avoid this we should not create a new array from an existing one like:-\n",
    "array2 = array1\n",
    "Instead, to avoid what happened we need to create a copy of the array, like :-\n",
    "array2 = array1.copy()"
   ]
  },
  {
   "cell_type": "code",
   "execution_count": 44,
   "metadata": {},
   "outputs": [
    {
     "data": {
      "text/plain": [
       "array([1, 2, 3, 4, 5, 6, 7, 8, 9])"
      ]
     },
     "execution_count": 44,
     "metadata": {},
     "output_type": "execute_result"
    }
   ],
   "source": [
    "array_1 = np.arange(1, 10)\n",
    "array_1"
   ]
  },
  {
   "cell_type": "code",
   "execution_count": 45,
   "metadata": {},
   "outputs": [
    {
     "data": {
      "text/plain": [
       "array([ 1,  2, 25,  4,  5,  6,  7,  8,  9])"
      ]
     },
     "execution_count": 45,
     "metadata": {},
     "output_type": "execute_result"
    }
   ],
   "source": [
    "array_2 = array_1.copy()\n",
    "array_2[2] = 25\n",
    "array_2"
   ]
  },
  {
   "cell_type": "code",
   "execution_count": 46,
   "metadata": {},
   "outputs": [
    {
     "name": "stdout",
     "output_type": "stream",
     "text": [
      "[1 2 3 4 5 6 7 8 9]\n",
      "[ 1  2 25  4  5  6  7  8  9]\n"
     ]
    }
   ],
   "source": [
    "print(array_1)\n",
    "print(array_2)"
   ]
  },
  {
   "cell_type": "markdown",
   "metadata": {},
   "source": [
    "Perfect!!! now we have 2 separate arrays"
   ]
  },
  {
   "cell_type": "markdown",
   "metadata": {},
   "source": [
    "## Iterating over a numpy array"
   ]
  },
  {
   "cell_type": "code",
   "execution_count": 47,
   "metadata": {},
   "outputs": [
    {
     "name": "stdout",
     "output_type": "stream",
     "text": [
      "1\n",
      "2\n",
      "3\n",
      "4\n",
      "5\n",
      "6\n",
      "7\n",
      "8\n",
      "9\n",
      "10\n"
     ]
    }
   ],
   "source": [
    "iter_arr = np.arange(1, 11)\n",
    "\n",
    "#iterating over the array\n",
    "for num in iter_arr:\n",
    "    print(num)"
   ]
  },
  {
   "cell_type": "markdown",
   "metadata": {},
   "source": [
    "Works perfect!! But, can we iterate over a 2-dimensional array in the same way??"
   ]
  },
  {
   "cell_type": "code",
   "execution_count": 48,
   "metadata": {},
   "outputs": [
    {
     "name": "stdout",
     "output_type": "stream",
     "text": [
      "[ 5  2 10  9  8]\n",
      "[ 6  4  9 10  1]\n"
     ]
    }
   ],
   "source": [
    "iter_arr2 = np.random.randint(1, 11, (2, 5))\n",
    "iter_arr2\n",
    "\n",
    "#iterating over the array\n",
    "for num in iter_arr2:\n",
    "    print(num)"
   ]
  },
  {
   "cell_type": "markdown",
   "metadata": {},
   "source": [
    "This isn't what we want. We wanted to print the individual elements of the array"
   ]
  },
  {
   "cell_type": "code",
   "execution_count": 49,
   "metadata": {},
   "outputs": [
    {
     "name": "stdout",
     "output_type": "stream",
     "text": [
      "5\n",
      "2\n",
      "10\n",
      "9\n",
      "8\n",
      "6\n",
      "4\n",
      "9\n",
      "10\n",
      "1\n"
     ]
    }
   ],
   "source": [
    "#For that we use, 'nditer' function\n",
    "for num in np.nditer(iter_arr2):\n",
    "    print(num)"
   ]
  },
  {
   "cell_type": "markdown",
   "metadata": {},
   "source": [
    "Perfect!!!"
   ]
  },
  {
   "cell_type": "markdown",
   "metadata": {},
   "source": [
    "## Reshaping an array"
   ]
  },
  {
   "cell_type": "code",
   "execution_count": 50,
   "metadata": {},
   "outputs": [
    {
     "data": {
      "text/plain": [
       "array([[1, 2, 3],\n",
       "       [4, 5, 6]])"
      ]
     },
     "execution_count": 50,
     "metadata": {},
     "output_type": "execute_result"
    }
   ],
   "source": [
    "a_1 = np.arange(1,7).reshape(2, 3)\n",
    "a_1"
   ]
  },
  {
   "cell_type": "code",
   "execution_count": 51,
   "metadata": {},
   "outputs": [
    {
     "data": {
      "text/plain": [
       "array([[1, 2],\n",
       "       [3, 4],\n",
       "       [5, 6]])"
      ]
     },
     "execution_count": 51,
     "metadata": {},
     "output_type": "execute_result"
    }
   ],
   "source": [
    "a_1.reshape(3, 2)"
   ]
  },
  {
   "cell_type": "markdown",
   "metadata": {},
   "source": [
    "## Concatenating and Splitting arrays"
   ]
  },
  {
   "cell_type": "code",
   "execution_count": 52,
   "metadata": {},
   "outputs": [],
   "source": [
    "a_1 = np.array([1,2,3])\n",
    "a_2 = np.array([4,5,6])"
   ]
  },
  {
   "cell_type": "code",
   "execution_count": 53,
   "metadata": {},
   "outputs": [
    {
     "data": {
      "text/plain": [
       "array([1, 2, 3, 4, 5, 6])"
      ]
     },
     "execution_count": 53,
     "metadata": {},
     "output_type": "execute_result"
    }
   ],
   "source": [
    "a_3 = np.concatenate([a_1, a_2])\n",
    "a_3"
   ]
  },
  {
   "cell_type": "code",
   "execution_count": 54,
   "metadata": {},
   "outputs": [
    {
     "data": {
      "text/plain": [
       "array([[1, 4],\n",
       "       [2, 5],\n",
       "       [3, 6]])"
      ]
     },
     "execution_count": 54,
     "metadata": {},
     "output_type": "execute_result"
    }
   ],
   "source": [
    "a_4 = np.column_stack((a_1, a_2))\n",
    "a_4"
   ]
  },
  {
   "cell_type": "code",
   "execution_count": 55,
   "metadata": {},
   "outputs": [
    {
     "data": {
      "text/plain": [
       "array([1, 2, 3, 4, 5, 6])"
      ]
     },
     "execution_count": 55,
     "metadata": {},
     "output_type": "execute_result"
    }
   ],
   "source": [
    "a_5 = np.hstack((a_1, a_2))\n",
    "a_5"
   ]
  },
  {
   "cell_type": "code",
   "execution_count": 56,
   "metadata": {},
   "outputs": [
    {
     "data": {
      "text/plain": [
       "array([[1, 2, 3],\n",
       "       [4, 5, 6]])"
      ]
     },
     "execution_count": 56,
     "metadata": {},
     "output_type": "execute_result"
    }
   ],
   "source": [
    "a_6 = np.vstack((a_1, a_2))\n",
    "a_6"
   ]
  },
  {
   "cell_type": "markdown",
   "metadata": {},
   "source": [
    "#### Splitting an array"
   ]
  },
  {
   "cell_type": "code",
   "execution_count": 57,
   "metadata": {},
   "outputs": [
    {
     "name": "stdout",
     "output_type": "stream",
     "text": [
      "[1 2 3]\n",
      "[4 5 6]\n"
     ]
    }
   ],
   "source": [
    "arr_1, arr_2 = np.split(a_3, [3])\n",
    "print(arr_1)\n",
    "print(arr_2)"
   ]
  },
  {
   "cell_type": "code",
   "execution_count": 58,
   "metadata": {},
   "outputs": [
    {
     "data": {
      "text/plain": [
       "array([[6, 3, 5, 7],\n",
       "       [1, 9, 7, 3]])"
      ]
     },
     "execution_count": 58,
     "metadata": {},
     "output_type": "execute_result"
    }
   ],
   "source": [
    "arr_3 = np.random.randint(1, 10, (2,4))\n",
    "arr_3"
   ]
  },
  {
   "cell_type": "code",
   "execution_count": 59,
   "metadata": {},
   "outputs": [
    {
     "name": "stdout",
     "output_type": "stream",
     "text": [
      "[[6 3]\n",
      " [1 9]]\n",
      "[[5 7]\n",
      " [7 3]]\n"
     ]
    }
   ],
   "source": [
    "arr_h, arr_h2 = np.hsplit(arr_3, [2])\n",
    "print(arr_h)\n",
    "print(arr_h2)"
   ]
  },
  {
   "cell_type": "code",
   "execution_count": 60,
   "metadata": {},
   "outputs": [
    {
     "name": "stdout",
     "output_type": "stream",
     "text": [
      "[[6 3 5 7]]\n",
      "[[1 9 7 3]]\n"
     ]
    }
   ],
   "source": [
    "arr_v, arr_v2 = np.vsplit(arr_3, [1])\n",
    "print(arr_v)\n",
    "print(arr_v2)"
   ]
  },
  {
   "cell_type": "markdown",
   "metadata": {},
   "source": [
    "## Arithmetic functions"
   ]
  },
  {
   "cell_type": "code",
   "execution_count": 95,
   "metadata": {},
   "outputs": [
    {
     "name": "stdout",
     "output_type": "stream",
     "text": [
      "[3 4 5]\n"
     ]
    }
   ],
   "source": [
    "# Works with lists\n",
    "arr_1 = [1,2,3]\n",
    "arr_2 = [2,2,2]\n",
    "\n",
    "print(np.add(arr_1, arr_2))"
   ]
  },
  {
   "cell_type": "code",
   "execution_count": 99,
   "metadata": {},
   "outputs": [
    {
     "name": "stdout",
     "output_type": "stream",
     "text": [
      "[3 4 5]\n"
     ]
    }
   ],
   "source": [
    "# +\n",
    "arr_1 = np.array([1,2,3])\n",
    "arr_2 = np.array([2,2,2])\n",
    "\n",
    "print(np.add(arr_1, arr_2))"
   ]
  },
  {
   "cell_type": "code",
   "execution_count": 100,
   "metadata": {},
   "outputs": [
    {
     "data": {
      "text/plain": [
       "6"
      ]
     },
     "execution_count": 100,
     "metadata": {},
     "output_type": "execute_result"
    }
   ],
   "source": [
    "np.add.reduce(arr_2)"
   ]
  },
  {
   "cell_type": "code",
   "execution_count": 101,
   "metadata": {},
   "outputs": [
    {
     "data": {
      "text/plain": [
       "array([1, 3, 6], dtype=int32)"
      ]
     },
     "execution_count": 101,
     "metadata": {},
     "output_type": "execute_result"
    }
   ],
   "source": [
    "np.add.accumulate(arr_1)"
   ]
  },
  {
   "cell_type": "code",
   "execution_count": 73,
   "metadata": {},
   "outputs": [
    {
     "name": "stdout",
     "output_type": "stream",
     "text": [
      "[-5  0 -4]\n"
     ]
    }
   ],
   "source": [
    "# -\n",
    "arr_1 = np.array([3,4,2])\n",
    "arr_2 = np.array([8,4,6])\n",
    "\n",
    "print(np.subtract(arr_1, arr_2))"
   ]
  },
  {
   "cell_type": "code",
   "execution_count": 74,
   "metadata": {},
   "outputs": [
    {
     "name": "stdout",
     "output_type": "stream",
     "text": [
      "[2 4 6]\n"
     ]
    }
   ],
   "source": [
    "# *\n",
    "arr_1 = np.array([1,2,3])\n",
    "arr_2 = np.array([2,2,2])\n",
    "\n",
    "print(np.multiply(arr_1, arr_2))"
   ]
  },
  {
   "cell_type": "code",
   "execution_count": 75,
   "metadata": {},
   "outputs": [
    {
     "name": "stdout",
     "output_type": "stream",
     "text": [
      "[0.5 1.  1.5]\n"
     ]
    }
   ],
   "source": [
    "# /\n",
    "arr_1 = np.array([1,2,3])\n",
    "arr_2 = np.array([2,2,2])\n",
    "\n",
    "print(np.divide(arr_1, arr_2))"
   ]
  },
  {
   "cell_type": "code",
   "execution_count": 76,
   "metadata": {},
   "outputs": [
    {
     "name": "stdout",
     "output_type": "stream",
     "text": [
      "[1 4 9]\n"
     ]
    }
   ],
   "source": [
    "# **\n",
    "arr_1 = np.array([1,2,3])\n",
    "arr_2 = np.array([2,2,2])\n",
    "\n",
    "print(np.power(arr_1, arr_2))"
   ]
  },
  {
   "cell_type": "code",
   "execution_count": 77,
   "metadata": {},
   "outputs": [
    {
     "name": "stdout",
     "output_type": "stream",
     "text": [
      "[1 0 1]\n"
     ]
    }
   ],
   "source": [
    "# %\n",
    "arr_1 = np.array([1,2,3])\n",
    "arr_2 = np.array([2,2,2])\n",
    "\n",
    "print(np.mod(arr_1, arr_2))"
   ]
  },
  {
   "cell_type": "markdown",
   "metadata": {},
   "source": [
    "## Trigonometric functions"
   ]
  },
  {
   "cell_type": "code",
   "execution_count": 78,
   "metadata": {},
   "outputs": [],
   "source": [
    "num = 45"
   ]
  },
  {
   "cell_type": "code",
   "execution_count": 79,
   "metadata": {},
   "outputs": [
    {
     "data": {
      "text/plain": [
       "0.8509035245341184"
      ]
     },
     "execution_count": 79,
     "metadata": {},
     "output_type": "execute_result"
    }
   ],
   "source": [
    "# sin\n",
    "np.sin(num)"
   ]
  },
  {
   "cell_type": "code",
   "execution_count": 84,
   "metadata": {},
   "outputs": [
    {
     "data": {
      "text/plain": [
       "0.5253219888177297"
      ]
     },
     "execution_count": 84,
     "metadata": {},
     "output_type": "execute_result"
    }
   ],
   "source": [
    "#cos\n",
    "np.cos(num)"
   ]
  },
  {
   "cell_type": "code",
   "execution_count": 85,
   "metadata": {},
   "outputs": [
    {
     "data": {
      "text/plain": [
       "1.6197751905438615"
      ]
     },
     "execution_count": 85,
     "metadata": {},
     "output_type": "execute_result"
    }
   ],
   "source": [
    "#tan\n",
    "np.tan(num)"
   ]
  },
  {
   "cell_type": "markdown",
   "metadata": {},
   "source": [
    "## Exponents"
   ]
  },
  {
   "cell_type": "code",
   "execution_count": 87,
   "metadata": {},
   "outputs": [
    {
     "data": {
      "text/plain": [
       "array([1, 2, 3, 4, 5])"
      ]
     },
     "execution_count": 87,
     "metadata": {},
     "output_type": "execute_result"
    }
   ],
   "source": [
    "a_exp = np.arange(1,6)\n",
    "a_exp"
   ]
  },
  {
   "cell_type": "code",
   "execution_count": 89,
   "metadata": {},
   "outputs": [
    {
     "data": {
      "text/plain": [
       "array([ 2.,  4.,  8., 16., 32.])"
      ]
     },
     "execution_count": 89,
     "metadata": {},
     "output_type": "execute_result"
    }
   ],
   "source": [
    "# 2 ^ a_exp\n",
    "np.exp2(a_exp)"
   ]
  },
  {
   "cell_type": "code",
   "execution_count": 90,
   "metadata": {},
   "outputs": [
    {
     "data": {
      "text/plain": [
       "81"
      ]
     },
     "execution_count": 90,
     "metadata": {},
     "output_type": "execute_result"
    }
   ],
   "source": [
    "np.power(3, 4)"
   ]
  },
  {
   "cell_type": "markdown",
   "metadata": {},
   "source": [
    "## Logarithms"
   ]
  },
  {
   "cell_type": "code",
   "execution_count": 91,
   "metadata": {},
   "outputs": [
    {
     "data": {
      "text/plain": [
       "array([0.        , 0.69314718, 1.09861229])"
      ]
     },
     "execution_count": 91,
     "metadata": {},
     "output_type": "execute_result"
    }
   ],
   "source": [
    "np.log([1,2,3])"
   ]
  },
  {
   "cell_type": "code",
   "execution_count": 92,
   "metadata": {},
   "outputs": [
    {
     "data": {
      "text/plain": [
       "array([2.5849625, 3.169925 , 1.5849625])"
      ]
     },
     "execution_count": 92,
     "metadata": {},
     "output_type": "execute_result"
    }
   ],
   "source": [
    "np.log2([6,9,3])"
   ]
  },
  {
   "cell_type": "code",
   "execution_count": 93,
   "metadata": {},
   "outputs": [
    {
     "data": {
      "text/plain": [
       "array([1.07918125, 1.65321251, 1.32221929])"
      ]
     },
     "execution_count": 93,
     "metadata": {},
     "output_type": "execute_result"
    }
   ],
   "source": [
    "np.log10([12,45,21])"
   ]
  },
  {
   "cell_type": "markdown",
   "metadata": {},
   "source": [
    "## Summary statistics"
   ]
  },
  {
   "cell_type": "code",
   "execution_count": 110,
   "metadata": {},
   "outputs": [
    {
     "data": {
      "text/plain": [
       "array([10, 11, 12, 13, 14, 15, 16, 17, 18, 19, 20])"
      ]
     },
     "execution_count": 110,
     "metadata": {},
     "output_type": "execute_result"
    }
   ],
   "source": [
    "a = np.arange(10, 21)\n",
    "a"
   ]
  },
  {
   "cell_type": "code",
   "execution_count": 111,
   "metadata": {},
   "outputs": [
    {
     "data": {
      "text/plain": [
       "165"
      ]
     },
     "execution_count": 111,
     "metadata": {},
     "output_type": "execute_result"
    }
   ],
   "source": [
    "#sum of all the elements\n",
    "np.sum(a)\n",
    "#np.add.reduce(a_sum)\n",
    "#gives the same result"
   ]
  },
  {
   "cell_type": "code",
   "execution_count": 116,
   "metadata": {},
   "outputs": [
    {
     "data": {
      "text/plain": [
       "10"
      ]
     },
     "execution_count": 116,
     "metadata": {},
     "output_type": "execute_result"
    }
   ],
   "source": [
    "#minimum of all the elements\n",
    "np.min(a)"
   ]
  },
  {
   "cell_type": "code",
   "execution_count": 113,
   "metadata": {},
   "outputs": [
    {
     "data": {
      "text/plain": [
       "20"
      ]
     },
     "execution_count": 113,
     "metadata": {},
     "output_type": "execute_result"
    }
   ],
   "source": [
    "#maximum of all elements\n",
    "np.max(a)"
   ]
  },
  {
   "cell_type": "code",
   "execution_count": 140,
   "metadata": {},
   "outputs": [
    {
     "data": {
      "text/plain": [
       "51.625"
      ]
     },
     "execution_count": 140,
     "metadata": {},
     "output_type": "execute_result"
    }
   ],
   "source": [
    "np.mean([89,23,45,23,12,90,47,84])"
   ]
  },
  {
   "cell_type": "code",
   "execution_count": 146,
   "metadata": {},
   "outputs": [
    {
     "data": {
      "text/plain": [
       "46.0"
      ]
     },
     "execution_count": 146,
     "metadata": {},
     "output_type": "execute_result"
    }
   ],
   "source": [
    "np.median([89,23,45,23,12,90,47,84])"
   ]
  },
  {
   "cell_type": "code",
   "execution_count": 141,
   "metadata": {},
   "outputs": [
    {
     "data": {
      "text/plain": [
       "29.983068138534456"
      ]
     },
     "execution_count": 141,
     "metadata": {},
     "output_type": "execute_result"
    }
   ],
   "source": [
    "np.std([89,23,45,23,12,90,47,84])"
   ]
  },
  {
   "cell_type": "code",
   "execution_count": 142,
   "metadata": {},
   "outputs": [
    {
     "data": {
      "text/plain": [
       "898.984375"
      ]
     },
     "execution_count": 142,
     "metadata": {},
     "output_type": "execute_result"
    }
   ],
   "source": [
    "np.var([89,23,45,23,12,90,47,84])"
   ]
  },
  {
   "cell_type": "code",
   "execution_count": 144,
   "metadata": {},
   "outputs": [
    {
     "data": {
      "text/plain": [
       "4"
      ]
     },
     "execution_count": 144,
     "metadata": {},
     "output_type": "execute_result"
    }
   ],
   "source": [
    "#prints index of minimum value\n",
    "np.argmin([89,23,45,23,12,90,47,84])"
   ]
  },
  {
   "cell_type": "code",
   "execution_count": 145,
   "metadata": {},
   "outputs": [
    {
     "data": {
      "text/plain": [
       "5"
      ]
     },
     "execution_count": 145,
     "metadata": {},
     "output_type": "execute_result"
    }
   ],
   "source": [
    "#prints index of maximum value\n",
    "np.argmax([89,23,45,23,12,90,47,84])"
   ]
  },
  {
   "cell_type": "markdown",
   "metadata": {},
   "source": [
    "## Loading data using NumPy"
   ]
  },
  {
   "cell_type": "markdown",
   "metadata": {},
   "source": [
    "We are going to load 'MNIST' dataset using NumPy"
   ]
  },
  {
   "cell_type": "markdown",
   "metadata": {},
   "source": [
    "Loading a file using 'loadtxt'"
   ]
  },
  {
   "cell_type": "code",
   "execution_count": 130,
   "metadata": {},
   "outputs": [],
   "source": [
    "mnist = np.loadtxt('mnist_test.csv', delimiter=',', skiprows=1, dtype='float')"
   ]
  },
  {
   "cell_type": "code",
   "execution_count": 131,
   "metadata": {},
   "outputs": [
    {
     "data": {
      "text/plain": [
       "(10000, 785)"
      ]
     },
     "execution_count": 131,
     "metadata": {},
     "output_type": "execute_result"
    }
   ],
   "source": [
    "mnist.shape"
   ]
  },
  {
   "cell_type": "code",
   "execution_count": 132,
   "metadata": {},
   "outputs": [
    {
     "data": {
      "text/plain": [
       "array([[7., 0., 0., ..., 0., 0., 0.],\n",
       "       [2., 0., 0., ..., 0., 0., 0.],\n",
       "       [1., 0., 0., ..., 0., 0., 0.],\n",
       "       ...,\n",
       "       [4., 0., 0., ..., 0., 0., 0.],\n",
       "       [5., 0., 0., ..., 0., 0., 0.],\n",
       "       [6., 0., 0., ..., 0., 0., 0.]])"
      ]
     },
     "execution_count": 132,
     "metadata": {},
     "output_type": "execute_result"
    }
   ],
   "source": [
    "mnist"
   ]
  },
  {
   "cell_type": "markdown",
   "metadata": {},
   "source": [
    "To import a dataset which contains columns of multiple types, we can use np.genfromtxt() and set dtype=None"
   ]
  },
  {
   "cell_type": "code",
   "execution_count": 135,
   "metadata": {},
   "outputs": [
    {
     "name": "stderr",
     "output_type": "stream",
     "text": [
      "C:\\Users\\Admin\\Anaconda3\\lib\\site-packages\\ipykernel_launcher.py:1: VisibleDeprecationWarning: Reading unicode strings without specifying the encoding argument is deprecated. Set the encoding, use None for the system default.\n",
      "  \"\"\"Entry point for launching an IPython kernel.\n"
     ]
    }
   ],
   "source": [
    "cars = np.genfromtxt('car_data.csv', delimiter=',', dtype=None, names=True)"
   ]
  },
  {
   "cell_type": "code",
   "execution_count": 136,
   "metadata": {},
   "outputs": [
    {
     "data": {
      "text/plain": [
       "array([(b'ritz', 2014,  3.35,  5.59 ,  27000, b'Petrol', b'Dealer', b'Manual', 0),\n",
       "       (b'sx4', 2013,  4.75,  9.54 ,  43000, b'Diesel', b'Dealer', b'Manual', 0),\n",
       "       (b'ciaz', 2017,  7.25,  9.85 ,   6900, b'Petrol', b'Dealer', b'Manual', 0),\n",
       "       (b'wagon r', 2011,  2.85,  4.15 ,   5200, b'Petrol', b'Dealer', b'Manual', 0),\n",
       "       (b'swift', 2014,  4.6 ,  6.87 ,  42450, b'Diesel', b'Dealer', b'Manual', 0),\n",
       "       (b'vitara brezza', 2018,  9.25,  9.83 ,   2071, b'Diesel', b'Dealer', b'Manual', 0),\n",
       "       (b'ciaz', 2015,  6.75,  8.12 ,  18796, b'Petrol', b'Dealer', b'Manual', 0),\n",
       "       (b's cross', 2015,  6.5 ,  8.61 ,  33429, b'Diesel', b'Dealer', b'Manual', 0),\n",
       "       (b'ciaz', 2016,  8.75,  8.89 ,  20273, b'Diesel', b'Dealer', b'Manual', 0),\n",
       "       (b'ciaz', 2015,  7.45,  8.92 ,  42367, b'Diesel', b'Dealer', b'Manual', 0),\n",
       "       (b'alto 800', 2017,  2.85,  3.6  ,   2135, b'Petrol', b'Dealer', b'Manual', 0),\n",
       "       (b'ciaz', 2015,  6.85, 10.38 ,  51000, b'Diesel', b'Dealer', b'Manual', 0),\n",
       "       (b'ciaz', 2015,  7.5 ,  9.94 ,  15000, b'Petrol', b'Dealer', b'Automatic', 0),\n",
       "       (b'ertiga', 2015,  6.1 ,  7.71 ,  26000, b'Petrol', b'Dealer', b'Manual', 0),\n",
       "       (b'dzire', 2009,  2.25,  7.21 ,  77427, b'Petrol', b'Dealer', b'Manual', 0),\n",
       "       (b'ertiga', 2016,  7.75, 10.79 ,  43000, b'Diesel', b'Dealer', b'Manual', 0),\n",
       "       (b'ertiga', 2015,  7.25, 10.79 ,  41678, b'Diesel', b'Dealer', b'Manual', 0),\n",
       "       (b'ertiga', 2016,  7.75, 10.79 ,  43000, b'Diesel', b'Dealer', b'Manual', 0),\n",
       "       (b'wagon r', 2015,  3.25,  5.09 ,  35500, b'CNG', b'Dealer', b'Manual', 0),\n",
       "       (b'sx4', 2010,  2.65,  7.98 ,  41442, b'Petrol', b'Dealer', b'Manual', 0),\n",
       "       (b'alto k10', 2016,  2.85,  3.95 ,  25000, b'Petrol', b'Dealer', b'Manual', 0),\n",
       "       (b'ignis', 2017,  4.9 ,  5.71 ,   2400, b'Petrol', b'Dealer', b'Manual', 0),\n",
       "       (b'sx4', 2011,  4.4 ,  8.01 ,  50000, b'Petrol', b'Dealer', b'Automatic', 0),\n",
       "       (b'alto k10', 2014,  2.5 ,  3.46 ,  45280, b'Petrol', b'Dealer', b'Manual', 0),\n",
       "       (b'wagon r', 2013,  2.9 ,  4.41 ,  56879, b'Petrol', b'Dealer', b'Manual', 0),\n",
       "       (b'swift', 2011,  3.  ,  4.99 ,  20000, b'Petrol', b'Dealer', b'Manual', 0),\n",
       "       (b'swift', 2013,  4.15,  5.87 ,  55138, b'Petrol', b'Dealer', b'Manual', 0),\n",
       "       (b'swift', 2017,  6.  ,  6.49 ,  16200, b'Petrol', b'Individual', b'Manual', 0),\n",
       "       (b'alto k10', 2010,  1.95,  3.95 ,  44542, b'Petrol', b'Dealer', b'Manual', 0),\n",
       "       (b'ciaz', 2015,  7.45, 10.38 ,  45000, b'Diesel', b'Dealer', b'Manual', 0),\n",
       "       (b'ritz', 2012,  3.1 ,  5.98 ,  51439, b'Diesel', b'Dealer', b'Manual', 0),\n",
       "       (b'ritz', 2011,  2.35,  4.89 ,  54200, b'Petrol', b'Dealer', b'Manual', 0),\n",
       "       (b'swift', 2014,  4.95,  7.49 ,  39000, b'Diesel', b'Dealer', b'Manual', 0),\n",
       "       (b'ertiga', 2014,  6.  ,  9.95 ,  45000, b'Diesel', b'Dealer', b'Manual', 0),\n",
       "       (b'dzire', 2014,  5.5 ,  8.06 ,  45000, b'Diesel', b'Dealer', b'Manual', 0),\n",
       "       (b'sx4', 2011,  2.95,  7.74 ,  49998, b'CNG', b'Dealer', b'Manual', 0),\n",
       "       (b'dzire', 2015,  4.65,  7.2  ,  48767, b'Petrol', b'Dealer', b'Manual', 0),\n",
       "       (b'800', 2003,  0.35,  2.28 , 127000, b'Petrol', b'Individual', b'Manual', 0),\n",
       "       (b'alto k10', 2016,  3.  ,  3.76 ,  10079, b'Petrol', b'Dealer', b'Manual', 0),\n",
       "       (b'sx4', 2003,  2.25,  7.98 ,  62000, b'Petrol', b'Dealer', b'Manual', 0),\n",
       "       (b'baleno', 2016,  5.85,  7.87 ,  24524, b'Petrol', b'Dealer', b'Automatic', 0),\n",
       "       (b'alto k10', 2014,  2.55,  3.98 ,  46706, b'Petrol', b'Dealer', b'Manual', 0),\n",
       "       (b'sx4', 2008,  1.95,  7.15 ,  58000, b'Petrol', b'Dealer', b'Manual', 0),\n",
       "       (b'dzire', 2014,  5.5 ,  8.06 ,  45780, b'Diesel', b'Dealer', b'Manual', 0),\n",
       "       (b'omni', 2012,  1.25,  2.69 ,  50000, b'Petrol', b'Dealer', b'Manual', 0),\n",
       "       (b'ciaz', 2014,  7.5 , 12.04 ,  15000, b'Petrol', b'Dealer', b'Automatic', 0),\n",
       "       (b'ritz', 2013,  2.65,  4.89 ,  64532, b'Petrol', b'Dealer', b'Manual', 0),\n",
       "       (b'wagon r', 2006,  1.05,  4.15 ,  65000, b'Petrol', b'Dealer', b'Manual', 0),\n",
       "       (b'ertiga', 2015,  5.8 ,  7.71 ,  25870, b'Petrol', b'Dealer', b'Manual', 0),\n",
       "       (b'ciaz', 2017,  7.75,  9.29 ,  37000, b'Petrol', b'Dealer', b'Automatic', 0),\n",
       "       (b'fortuner', 2012, 14.9 , 30.61 , 104707, b'Diesel', b'Dealer', b'Automatic', 0),\n",
       "       (b'fortuner', 2015, 23.  , 30.61 ,  40000, b'Diesel', b'Dealer', b'Automatic', 0),\n",
       "       (b'innova', 2017, 18.  , 19.77 ,  15000, b'Diesel', b'Dealer', b'Automatic', 0),\n",
       "       (b'fortuner', 2013, 16.  , 30.61 , 135000, b'Diesel', b'Individual', b'Automatic', 0),\n",
       "       (b'innova', 2005,  2.75, 10.21 ,  90000, b'Petrol', b'Individual', b'Manual', 0),\n",
       "       (b'corolla altis', 2009,  3.6 , 15.04 ,  70000, b'Petrol', b'Dealer', b'Automatic', 0),\n",
       "       (b'etios cross', 2015,  4.5 ,  7.27 ,  40534, b'Petrol', b'Dealer', b'Manual', 0),\n",
       "       (b'corolla altis', 2010,  4.75, 18.54 ,  50000, b'Petrol', b'Dealer', b'Manual', 0),\n",
       "       (b'etios g', 2014,  4.1 ,  6.8  ,  39485, b'Petrol', b'Dealer', b'Manual', 1),\n",
       "       (b'fortuner', 2014, 19.99, 35.96 ,  41000, b'Diesel', b'Dealer', b'Automatic', 0),\n",
       "       (b'corolla altis', 2013,  6.95, 18.61 ,  40001, b'Petrol', b'Dealer', b'Manual', 0),\n",
       "       (b'etios cross', 2015,  4.5 ,  7.7  ,  40588, b'Petrol', b'Dealer', b'Manual', 0),\n",
       "       (b'fortuner', 2014, 18.75, 35.96 ,  78000, b'Diesel', b'Dealer', b'Automatic', 0),\n",
       "       (b'fortuner', 2015, 23.5 , 35.96 ,  47000, b'Diesel', b'Dealer', b'Automatic', 0),\n",
       "       (b'fortuner', 2017, 33.  , 36.23 ,   6000, b'Diesel', b'Dealer', b'Automatic', 0),\n",
       "       (b'etios liva', 2014,  4.75,  6.95 ,  45000, b'Diesel', b'Dealer', b'Manual', 0),\n",
       "       (b'innova', 2017, 19.75, 23.15 ,  11000, b'Petrol', b'Dealer', b'Automatic', 0),\n",
       "       (b'fortuner', 2010,  9.25, 20.45 ,  59000, b'Diesel', b'Dealer', b'Manual', 0),\n",
       "       (b'corolla altis', 2011,  4.35, 13.74 ,  88000, b'Petrol', b'Dealer', b'Manual', 0),\n",
       "       (b'corolla altis', 2016, 14.25, 20.91 ,  12000, b'Petrol', b'Dealer', b'Manual', 0),\n",
       "       (b'etios liva', 2014,  3.95,  6.76 ,  71000, b'Diesel', b'Dealer', b'Manual', 0),\n",
       "       (b'corolla altis', 2011,  4.5 , 12.48 ,  45000, b'Diesel', b'Dealer', b'Manual', 0),\n",
       "       (b'corolla altis', 2013,  7.45, 18.61 ,  56001, b'Petrol', b'Dealer', b'Manual', 0),\n",
       "       (b'etios liva', 2011,  2.65,  5.71 ,  43000, b'Petrol', b'Dealer', b'Manual', 0),\n",
       "       (b'etios cross', 2014,  4.9 ,  8.93 ,  83000, b'Diesel', b'Dealer', b'Manual', 0),\n",
       "       (b'etios g', 2015,  3.95,  6.8  ,  36000, b'Petrol', b'Dealer', b'Manual', 0),\n",
       "       (b'corolla altis', 2013,  5.5 , 14.68 ,  72000, b'Petrol', b'Dealer', b'Manual', 0),\n",
       "       (b'corolla', 2004,  1.5 , 12.35 , 135154, b'Petrol', b'Dealer', b'Automatic', 0),\n",
       "       (b'corolla altis', 2010,  5.25, 22.83 ,  80000, b'Petrol', b'Dealer', b'Automatic', 0),\n",
       "       (b'fortuner', 2012, 14.5 , 30.61 ,  89000, b'Diesel', b'Dealer', b'Automatic', 0),\n",
       "       (b'corolla altis', 2016, 14.73, 14.89 ,  23000, b'Diesel', b'Dealer', b'Manual', 0),\n",
       "       (b'etios gd', 2015,  4.75,  7.85 ,  40000, b'Diesel', b'Dealer', b'Manual', 0),\n",
       "       (b'innova', 2017, 23.  , 25.39 ,  15000, b'Diesel', b'Dealer', b'Automatic', 0),\n",
       "       (b'innova', 2015, 12.5 , 13.46 ,  38000, b'Diesel', b'Dealer', b'Manual', 0),\n",
       "       (b'innova', 2005,  3.49, 13.46 , 197176, b'Diesel', b'Dealer', b'Manual', 0),\n",
       "       (b'camry', 2006,  2.5 , 23.73 , 142000, b'Petrol', b'Individual', b'Automatic', 3),\n",
       "       (b'land cruiser', 2010, 35.  , 92.6  ,  78000, b'Diesel', b'Dealer', b'Manual', 0),\n",
       "       (b'corolla altis', 2012,  5.9 , 13.74 ,  56000, b'Petrol', b'Dealer', b'Manual', 0),\n",
       "       (b'etios liva', 2013,  3.45,  6.05 ,  47000, b'Petrol', b'Dealer', b'Manual', 0),\n",
       "       (b'etios g', 2014,  4.75,  6.76 ,  40000, b'Petrol', b'Dealer', b'Manual', 0),\n",
       "       (b'corolla altis', 2009,  3.8 , 18.61 ,  62000, b'Petrol', b'Dealer', b'Manual', 0),\n",
       "       (b'innova', 2014, 11.25, 16.09 ,  58242, b'Diesel', b'Dealer', b'Manual', 0),\n",
       "       (b'innova', 2005,  3.51, 13.7  ,  75000, b'Petrol', b'Dealer', b'Manual', 0),\n",
       "       (b'fortuner', 2015, 23.  , 30.61 ,  40000, b'Diesel', b'Dealer', b'Automatic', 0),\n",
       "       (b'corolla altis', 2008,  4.  , 22.78 ,  89000, b'Petrol', b'Dealer', b'Automatic', 0),\n",
       "       (b'corolla altis', 2012,  5.85, 18.61 ,  72000, b'Petrol', b'Dealer', b'Manual', 0),\n",
       "       (b'innova', 2016, 20.75, 25.39 ,  29000, b'Diesel', b'Dealer', b'Automatic', 0),\n",
       "       (b'corolla altis', 2017, 17.  , 18.64 ,   8700, b'Petrol', b'Dealer', b'Manual', 0),\n",
       "       (b'corolla altis', 2013,  7.05, 18.61 ,  45000, b'Petrol', b'Dealer', b'Manual', 0),\n",
       "       (b'fortuner', 2010,  9.65, 20.45 ,  50024, b'Diesel', b'Dealer', b'Manual', 0),\n",
       "       (b'Royal Enfield Thunder 500', 2016,  1.75,  1.9  ,   3000, b'Petrol', b'Individual', b'Manual', 0),\n",
       "       (b'UM Renegade Mojave', 2017,  1.7 ,  1.82 ,   1400, b'Petrol', b'Individual', b'Manual', 0),\n",
       "       (b'KTM RC200', 2017,  1.65,  1.78 ,   4000, b'Petrol', b'Individual', b'Manual', 0),\n",
       "       (b'Bajaj Dominar 400', 2017,  1.45,  1.6  ,   1200, b'Petrol', b'Individual', b'Manual', 0),\n",
       "       (b'Royal Enfield Classic 350', 2017,  1.35,  1.47 ,   4100, b'Petrol', b'Individual', b'Manual', 0),\n",
       "       (b'KTM RC390', 2015,  1.35,  2.37 ,  21700, b'Petrol', b'Individual', b'Manual', 0),\n",
       "       (b'Hyosung GT250R', 2014,  1.35,  3.45 ,  16500, b'Petrol', b'Individual', b'Manual', 1),\n",
       "       (b'Royal Enfield Thunder 350', 2013,  1.25,  1.5  ,  15000, b'Petrol', b'Individual', b'Manual', 0),\n",
       "       (b'Royal Enfield Thunder 350', 2016,  1.2 ,  1.5  ,  18000, b'Petrol', b'Individual', b'Manual', 0),\n",
       "       (b'Royal Enfield Classic 350', 2017,  1.2 ,  1.47 ,  11000, b'Petrol', b'Individual', b'Manual', 0),\n",
       "       (b'KTM RC200', 2016,  1.2 ,  1.78 ,   6000, b'Petrol', b'Individual', b'Manual', 0),\n",
       "       (b'Royal Enfield Thunder 350', 2016,  1.15,  1.5  ,   8700, b'Petrol', b'Individual', b'Manual', 0),\n",
       "       (b'KTM 390 Duke ', 2014,  1.15,  2.4  ,   7000, b'Petrol', b'Individual', b'Manual', 0),\n",
       "       (b'Mahindra Mojo XT300', 2016,  1.15,  1.4  ,  35000, b'Petrol', b'Individual', b'Manual', 0),\n",
       "       (b'Royal Enfield Classic 350', 2015,  1.15,  1.47 ,  17000, b'Petrol', b'Individual', b'Manual', 0),\n",
       "       (b'Royal Enfield Classic 350', 2015,  1.11,  1.47 ,  17500, b'Petrol', b'Individual', b'Manual', 0),\n",
       "       (b'Royal Enfield Classic 350', 2013,  1.1 ,  1.47 ,  33000, b'Petrol', b'Individual', b'Manual', 0),\n",
       "       (b'Royal Enfield Thunder 500', 2015,  1.1 ,  1.9  ,  14000, b'Petrol', b'Individual', b'Manual', 0),\n",
       "       (b'Royal Enfield Classic 350', 2015,  1.1 ,  1.47 ,  26000, b'Petrol', b'Individual', b'Manual', 0),\n",
       "       (b'Royal Enfield Thunder 500', 2013,  1.05,  1.9  ,   5400, b'Petrol', b'Individual', b'Manual', 0),\n",
       "       (b'Bajaj Pulsar RS200', 2016,  1.05,  1.26 ,   5700, b'Petrol', b'Individual', b'Manual', 0),\n",
       "       (b'Royal Enfield Thunder 350', 2011,  1.05,  1.5  ,   6900, b'Petrol', b'Individual', b'Manual', 0),\n",
       "       (b'Royal Enfield Bullet 350', 2016,  1.05,  1.17 ,   6000, b'Petrol', b'Individual', b'Manual', 0),\n",
       "       (b'Royal Enfield Classic 350', 2013,  1.  ,  1.47 ,  46500, b'Petrol', b'Individual', b'Manual', 0),\n",
       "       (b'Royal Enfield Classic 500', 2012,  0.95,  1.75 ,  11500, b'Petrol', b'Individual', b'Manual', 0),\n",
       "       (b'Royal Enfield Classic 500', 2009,  0.9 ,  1.75 ,  40000, b'Petrol', b'Individual', b'Manual', 0),\n",
       "       (b'Bajaj Avenger 220', 2017,  0.9 ,  0.95 ,   1300, b'Petrol', b'Individual', b'Manual', 0),\n",
       "       (b'Bajaj Avenger 150', 2016,  0.75,  0.8  ,   7000, b'Petrol', b'Individual', b'Manual', 0),\n",
       "       (b'Honda CB Hornet 160R', 2017,  0.8 ,  0.87 ,   3000, b'Petrol', b'Individual', b'Manual', 0),\n",
       "       (b'Yamaha FZ S V 2.0', 2017,  0.78,  0.84 ,   5000, b'Petrol', b'Individual', b'Manual', 0),\n",
       "       (b'Honda CB Hornet 160R', 2017,  0.75,  0.87 ,  11000, b'Petrol', b'Individual', b'Manual', 0),\n",
       "       (b'Yamaha FZ 16', 2015,  0.75,  0.82 ,  18000, b'Petrol', b'Individual', b'Manual', 0),\n",
       "       (b'Bajaj Avenger 220', 2017,  0.75,  0.95 ,   3500, b'Petrol', b'Individual', b'Manual', 0),\n",
       "       (b'Bajaj Avenger 220', 2016,  0.72,  0.95 ,    500, b'Petrol', b'Individual', b'Manual', 0),\n",
       "       (b'TVS Apache RTR 160', 2017,  0.65,  0.81 ,  11800, b'Petrol', b'Individual', b'Manual', 0),\n",
       "       (b'Bajaj Pulsar 150', 2015,  0.65,  0.74 ,   5000, b'Petrol', b'Individual', b'Manual', 0),\n",
       "       (b'Honda CBR 150', 2014,  0.65,  1.2  ,  23500, b'Petrol', b'Individual', b'Manual', 0),\n",
       "       (b'Hero Extreme', 2013,  0.65,  0.787,  16000, b'Petrol', b'Individual', b'Manual', 0),\n",
       "       (b'Honda CB Hornet 160R', 2016,  0.6 ,  0.87 ,  15000, b'Petrol', b'Individual', b'Manual', 0),\n",
       "       (b'Bajaj Avenger 220 dtsi', 2015,  0.6 ,  0.95 ,  16600, b'Petrol', b'Individual', b'Manual', 0),\n",
       "       (b'Honda CBR 150', 2013,  0.6 ,  1.2  ,  32000, b'Petrol', b'Individual', b'Manual', 0),\n",
       "       (b'Bajaj Avenger 150 street', 2016,  0.6 ,  0.8  ,  20000, b'Petrol', b'Individual', b'Manual', 0),\n",
       "       (b'Yamaha FZ  v 2.0', 2015,  0.6 ,  0.84 ,  29000, b'Petrol', b'Individual', b'Manual', 0),\n",
       "       (b'Yamaha FZ  v 2.0', 2016,  0.6 ,  0.84 ,  25000, b'Petrol', b'Individual', b'Manual', 0),\n",
       "       (b'Bajaj Pulsar  NS 200', 2014,  0.6 ,  0.99 ,  25000, b'Petrol', b'Individual', b'Manual', 0),\n",
       "       (b'TVS Apache RTR 160', 2012,  0.6 ,  0.81 ,  19000, b'Petrol', b'Individual', b'Manual', 0),\n",
       "       (b'Hero Extreme', 2014,  0.55,  0.787,  15000, b'Petrol', b'Individual', b'Manual', 0),\n",
       "       (b'Yamaha FZ S V 2.0', 2015,  0.55,  0.84 ,  58000, b'Petrol', b'Individual', b'Manual', 0),\n",
       "       (b'Bajaj Pulsar 220 F', 2010,  0.52,  0.94 ,  45000, b'Petrol', b'Individual', b'Manual', 0),\n",
       "       (b'Bajaj Pulsar 220 F', 2016,  0.51,  0.94 ,  24000, b'Petrol', b'Individual', b'Manual', 0),\n",
       "       (b'TVS Apache RTR 180', 2011,  0.5 ,  0.826,   6000, b'Petrol', b'Individual', b'Manual', 0),\n",
       "       (b'Hero Passion X pro', 2016,  0.5 ,  0.55 ,  31000, b'Petrol', b'Individual', b'Manual', 0),\n",
       "       (b'Bajaj Pulsar NS 200', 2012,  0.5 ,  0.99 ,  13000, b'Petrol', b'Individual', b'Manual', 0),\n",
       "       (b'Bajaj Pulsar NS 200', 2013,  0.5 ,  0.99 ,  45000, b'Petrol', b'Individual', b'Manual', 0),\n",
       "       (b'Yamaha Fazer ', 2014,  0.5 ,  0.88 ,   8000, b'Petrol', b'Individual', b'Manual', 0),\n",
       "       (b'Honda Activa 4G', 2017,  0.48,  0.51 ,   4300, b'Petrol', b'Individual', b'Automatic', 0),\n",
       "       (b'TVS Sport ', 2017,  0.48,  0.52 ,  15000, b'Petrol', b'Individual', b'Manual', 0),\n",
       "       (b'Yamaha FZ S V 2.0', 2015,  0.48,  0.84 ,  23000, b'Petrol', b'Individual', b'Manual', 0),\n",
       "       (b'Honda Dream Yuga ', 2017,  0.48,  0.54 ,   8600, b'Petrol', b'Individual', b'Manual', 0),\n",
       "       (b'Honda Activa 4G', 2017,  0.45,  0.51 ,   4000, b'Petrol', b'Individual', b'Automatic', 0),\n",
       "       (b'Bajaj Avenger Street 220', 2011,  0.45,  0.95 ,  24000, b'Petrol', b'Individual', b'Manual', 0),\n",
       "       (b'TVS Apache RTR 180', 2014,  0.45,  0.826,  23000, b'Petrol', b'Individual', b'Manual', 0),\n",
       "       (b'Bajaj Pulsar NS 200', 2012,  0.45,  0.99 ,  14500, b'Petrol', b'Individual', b'Manual', 0),\n",
       "       (b'Bajaj Avenger 220 dtsi', 2010,  0.45,  0.95 ,  27000, b'Petrol', b'Individual', b'Manual', 0),\n",
       "       (b'Hero Splender iSmart', 2016,  0.45,  0.54 ,  14000, b'Petrol', b'Individual', b'Manual', 0),\n",
       "       (b'Activa 3g', 2016,  0.45,  0.54 ,    500, b'Petrol', b'Individual', b'Automatic', 0),\n",
       "       (b'Hero Passion Pro', 2016,  0.45,  0.55 ,   1000, b'Petrol', b'Individual', b'Manual', 0),\n",
       "       (b'TVS Apache RTR 160', 2014,  0.42,  0.81 ,  42000, b'Petrol', b'Individual', b'Manual', 0),\n",
       "       (b'Honda CB Trigger', 2013,  0.42,  0.73 ,  12000, b'Petrol', b'Individual', b'Manual', 0),\n",
       "       (b'Hero Splender iSmart', 2015,  0.4 ,  0.54 ,  14000, b'Petrol', b'Individual', b'Manual', 0),\n",
       "       (b'Yamaha FZ S ', 2012,  0.4 ,  0.83 ,   5500, b'Petrol', b'Individual', b'Manual', 0),\n",
       "       (b'Hero Passion Pro', 2015,  0.4 ,  0.55 ,   6700, b'Petrol', b'Individual', b'Manual', 0),\n",
       "       (b'Bajaj Pulsar 135 LS', 2014,  0.4 ,  0.64 ,  13700, b'Petrol', b'Individual', b'Manual', 0),\n",
       "       (b'Activa 4g', 2017,  0.4 ,  0.51 ,   1300, b'Petrol', b'Individual', b'Automatic', 0),\n",
       "       (b'Honda CB Unicorn', 2015,  0.38,  0.72 ,  38600, b'Petrol', b'Individual', b'Manual', 0),\n",
       "       (b'Hero Honda CBZ extreme', 2011,  0.38,  0.787,  75000, b'Petrol', b'Individual', b'Manual', 0),\n",
       "       (b'Honda Karizma', 2011,  0.35,  1.05 ,  30000, b'Petrol', b'Individual', b'Manual', 0),\n",
       "       (b'Honda Activa 125', 2016,  0.35,  0.57 ,  24000, b'Petrol', b'Individual', b'Automatic', 0),\n",
       "       (b'TVS Jupyter', 2014,  0.35,  0.52 ,  19000, b'Petrol', b'Individual', b'Automatic', 0),\n",
       "       (b'Honda Karizma', 2010,  0.31,  1.05 , 213000, b'Petrol', b'Individual', b'Manual', 0),\n",
       "       (b'Hero Honda Passion Pro', 2012,  0.3 ,  0.51 ,  60000, b'Petrol', b'Individual', b'Manual', 0),\n",
       "       (b'Hero Splender Plus', 2016,  0.3 ,  0.48 ,  50000, b'Petrol', b'Individual', b'Manual', 0),\n",
       "       (b'Honda CB Shine', 2013,  0.3 ,  0.58 ,  30000, b'Petrol', b'Individual', b'Manual', 0),\n",
       "       (b'Bajaj Discover 100', 2013,  0.27,  0.47 ,  21000, b'Petrol', b'Individual', b'Manual', 0),\n",
       "       (b'Bajaj Pulsar 150', 2008,  0.25,  0.75 ,  26000, b'Petrol', b'Individual', b'Manual', 1),\n",
       "       (b'Suzuki Access 125', 2008,  0.25,  0.58 ,   1900, b'Petrol', b'Individual', b'Automatic', 0),\n",
       "       (b'TVS Wego', 2010,  0.25,  0.52 ,  22000, b'Petrol', b'Individual', b'Automatic', 0),\n",
       "       (b'Honda CB twister', 2013,  0.25,  0.51 ,  32000, b'Petrol', b'Individual', b'Manual', 0),\n",
       "       (b'Hero Glamour', 2013,  0.25,  0.57 ,  18000, b'Petrol', b'Individual', b'Manual', 0),\n",
       "       (b'Hero Super Splendor', 2005,  0.2 ,  0.57 ,  55000, b'Petrol', b'Individual', b'Manual', 0),\n",
       "       (b'Bajaj Pulsar 150', 2008,  0.2 ,  0.75 ,  60000, b'Petrol', b'Individual', b'Manual', 0),\n",
       "       (b'Bajaj Discover 125', 2012,  0.2 ,  0.57 ,  25000, b'Petrol', b'Individual', b'Manual', 1),\n",
       "       (b'Hero Hunk', 2007,  0.2 ,  0.75 ,  49000, b'Petrol', b'Individual', b'Manual', 1),\n",
       "       (b'Hero  Ignitor Disc', 2013,  0.2 ,  0.65 ,  24000, b'Petrol', b'Individual', b'Manual', 1),\n",
       "       (b'Hero  CBZ Xtreme', 2008,  0.2 ,  0.787,  50000, b'Petrol', b'Individual', b'Manual', 0),\n",
       "       (b'Bajaj  ct 100', 2015,  0.18,  0.32 ,  35000, b'Petrol', b'Individual', b'Manual', 0),\n",
       "       (b'Activa 3g', 2008,  0.17,  0.52 , 500000, b'Petrol', b'Individual', b'Automatic', 0),\n",
       "       (b'Honda CB twister', 2010,  0.16,  0.51 ,  33000, b'Petrol', b'Individual', b'Manual', 0),\n",
       "       (b'Bajaj Discover 125', 2011,  0.15,  0.57 ,  35000, b'Petrol', b'Individual', b'Manual', 1),\n",
       "       (b'Honda CB Shine', 2007,  0.12,  0.58 ,  53000, b'Petrol', b'Individual', b'Manual', 0),\n",
       "       (b'Bajaj Pulsar 150', 2006,  0.1 ,  0.75 ,  92233, b'Petrol', b'Individual', b'Manual', 0),\n",
       "       (b'i20', 2010,  3.25,  6.79 ,  58000, b'Diesel', b'Dealer', b'Manual', 1),\n",
       "       (b'grand i10', 2015,  4.4 ,  5.7  ,  28200, b'Petrol', b'Dealer', b'Manual', 0),\n",
       "       (b'i10', 2011,  2.95,  4.6  ,  53460, b'Petrol', b'Dealer', b'Manual', 0),\n",
       "       (b'eon', 2015,  2.75,  4.43 ,  28282, b'Petrol', b'Dealer', b'Manual', 0),\n",
       "       (b'grand i10', 2016,  5.25,  5.7  ,   3493, b'Petrol', b'Dealer', b'Manual', 1),\n",
       "       (b'xcent', 2017,  5.75,  7.13 ,  12479, b'Petrol', b'Dealer', b'Manual', 0),\n",
       "       (b'grand i10', 2015,  5.15,  5.7  ,  34797, b'Petrol', b'Dealer', b'Automatic', 0),\n",
       "       (b'i20', 2017,  7.9 ,  8.1  ,   3435, b'Petrol', b'Dealer', b'Manual', 0),\n",
       "       (b'grand i10', 2015,  4.85,  5.7  ,  21125, b'Diesel', b'Dealer', b'Manual', 0),\n",
       "       (b'i10', 2012,  3.1 ,  4.6  ,  35775, b'Petrol', b'Dealer', b'Manual', 0),\n",
       "       (b'elantra', 2015, 11.75, 14.79 ,  43535, b'Diesel', b'Dealer', b'Manual', 0),\n",
       "       (b'creta', 2016, 11.25, 13.6  ,  22671, b'Petrol', b'Dealer', b'Manual', 0),\n",
       "       (b'i20', 2011,  2.9 ,  6.79 ,  31604, b'Petrol', b'Dealer', b'Manual', 0),\n",
       "       (b'grand i10', 2017,  5.25,  5.7  ,  20114, b'Petrol', b'Dealer', b'Manual', 0),\n",
       "       (b'verna', 2012,  4.5 ,  9.4  ,  36100, b'Petrol', b'Dealer', b'Manual', 0),\n",
       "       (b'eon', 2016,  2.9 ,  4.43 ,  12500, b'Petrol', b'Dealer', b'Manual', 0),\n",
       "       (b'eon', 2016,  3.15,  4.43 ,  15000, b'Petrol', b'Dealer', b'Manual', 0),\n",
       "       (b'verna', 2014,  6.45,  9.4  ,  45078, b'Petrol', b'Dealer', b'Manual', 0),\n",
       "       (b'verna', 2012,  4.5 ,  9.4  ,  36000, b'Petrol', b'Dealer', b'Manual', 0),\n",
       "       (b'eon', 2017,  3.5 ,  4.43 ,  38488, b'Petrol', b'Dealer', b'Manual', 0),\n",
       "       (b'i20', 2013,  4.5 ,  6.79 ,  32000, b'Petrol', b'Dealer', b'Automatic', 0),\n",
       "       (b'i20', 2014,  6.  ,  7.6  ,  77632, b'Diesel', b'Dealer', b'Manual', 0),\n",
       "       (b'verna', 2015,  8.25,  9.4  ,  61381, b'Diesel', b'Dealer', b'Manual', 0),\n",
       "       (b'verna', 2013,  5.11,  9.4  ,  36198, b'Petrol', b'Dealer', b'Automatic', 0),\n",
       "       (b'i10', 2011,  2.7 ,  4.6  ,  22517, b'Petrol', b'Dealer', b'Manual', 0),\n",
       "       (b'grand i10', 2015,  5.25,  5.7  ,  24678, b'Petrol', b'Dealer', b'Manual', 0),\n",
       "       (b'i10', 2011,  2.55,  4.43 ,  57000, b'Petrol', b'Dealer', b'Manual', 0),\n",
       "       (b'verna', 2012,  4.95,  9.4  ,  60000, b'Diesel', b'Dealer', b'Manual', 0),\n",
       "       (b'i20', 2012,  3.1 ,  6.79 ,  52132, b'Diesel', b'Dealer', b'Manual', 0),\n",
       "       (b'verna', 2013,  6.15,  9.4  ,  45000, b'Diesel', b'Dealer', b'Manual', 0),\n",
       "       (b'verna', 2017,  9.25,  9.4  ,  15001, b'Petrol', b'Dealer', b'Manual', 0),\n",
       "       (b'elantra', 2015, 11.45, 14.79 ,  12900, b'Petrol', b'Dealer', b'Automatic', 0),\n",
       "       (b'grand i10', 2013,  3.9 ,  5.7  ,  53000, b'Diesel', b'Dealer', b'Manual', 0),\n",
       "       (b'grand i10', 2015,  5.5 ,  5.7  ,   4492, b'Petrol', b'Dealer', b'Manual', 0),\n",
       "       (b'verna', 2017,  9.1 ,  9.4  ,  15141, b'Petrol', b'Dealer', b'Manual', 0),\n",
       "       (b'eon', 2016,  3.1 ,  4.43 ,  11849, b'Petrol', b'Dealer', b'Manual', 0),\n",
       "       (b'creta', 2015, 11.25, 13.6  ,  68000, b'Diesel', b'Dealer', b'Manual', 0),\n",
       "       (b'verna', 2013,  4.8 ,  9.4  ,  60241, b'Petrol', b'Dealer', b'Manual', 0),\n",
       "       (b'eon', 2012,  2.  ,  4.43 ,  23709, b'Petrol', b'Dealer', b'Manual', 0),\n",
       "       (b'verna', 2012,  5.35,  9.4  ,  32322, b'Diesel', b'Dealer', b'Manual', 0),\n",
       "       (b'xcent', 2015,  4.75,  7.13 ,  35866, b'Petrol', b'Dealer', b'Manual', 1),\n",
       "       (b'xcent', 2014,  4.4 ,  7.13 ,  34000, b'Petrol', b'Dealer', b'Manual', 0),\n",
       "       (b'i20', 2016,  6.25,  7.6  ,   7000, b'Petrol', b'Dealer', b'Manual', 0),\n",
       "       (b'verna', 2013,  5.95,  9.4  ,  49000, b'Diesel', b'Dealer', b'Manual', 0),\n",
       "       (b'verna', 2012,  5.2 ,  9.4  ,  71000, b'Diesel', b'Dealer', b'Manual', 0),\n",
       "       (b'i20', 2012,  3.75,  6.79 ,  35000, b'Petrol', b'Dealer', b'Manual', 0),\n",
       "       (b'verna', 2015,  5.95,  9.4  ,  36000, b'Petrol', b'Dealer', b'Manual', 0),\n",
       "       (b'i10', 2013,  4.  ,  4.6  ,  30000, b'Petrol', b'Dealer', b'Manual', 0),\n",
       "       (b'i20', 2016,  5.25,  7.6  ,  17000, b'Petrol', b'Dealer', b'Manual', 0),\n",
       "       (b'creta', 2016, 12.9 , 13.6  ,  35934, b'Diesel', b'Dealer', b'Manual', 0),\n",
       "       (b'city', 2013,  5.  ,  9.9  ,  56701, b'Petrol', b'Dealer', b'Manual', 0),\n",
       "       (b'brio', 2015,  5.4 ,  6.82 ,  31427, b'Petrol', b'Dealer', b'Automatic', 0),\n",
       "       (b'city', 2014,  7.2 ,  9.9  ,  48000, b'Diesel', b'Dealer', b'Manual', 0),\n",
       "       (b'city', 2013,  5.25,  9.9  ,  54242, b'Petrol', b'Dealer', b'Manual', 0),\n",
       "       (b'brio', 2012,  3.  ,  5.35 ,  53675, b'Petrol', b'Dealer', b'Manual', 0),\n",
       "       (b'city', 2016, 10.25, 13.6  ,  49562, b'Petrol', b'Dealer', b'Manual', 0),\n",
       "       (b'city', 2015,  8.5 , 13.6  ,  40324, b'Petrol', b'Dealer', b'Manual', 0),\n",
       "       (b'city', 2015,  8.4 , 13.6  ,  25000, b'Petrol', b'Dealer', b'Manual', 0),\n",
       "       (b'amaze', 2014,  3.9 ,  7.   ,  36054, b'Petrol', b'Dealer', b'Manual', 0),\n",
       "       (b'city', 2016,  9.15, 13.6  ,  29223, b'Petrol', b'Dealer', b'Manual', 0),\n",
       "       (b'brio', 2016,  5.5 ,  5.97 ,   5600, b'Petrol', b'Dealer', b'Manual', 0),\n",
       "       (b'amaze', 2015,  4.  ,  5.8  ,  40023, b'Petrol', b'Dealer', b'Manual', 0),\n",
       "       (b'jazz', 2016,  6.6 ,  7.7  ,  16002, b'Petrol', b'Dealer', b'Manual', 0),\n",
       "       (b'amaze', 2015,  4.  ,  7.   ,  40026, b'Petrol', b'Dealer', b'Manual', 0),\n",
       "       (b'jazz', 2017,  6.5 ,  8.7  ,  21200, b'Petrol', b'Dealer', b'Manual', 0),\n",
       "       (b'amaze', 2014,  3.65,  7.   ,  35000, b'Petrol', b'Dealer', b'Manual', 0),\n",
       "       (b'city', 2016,  8.35,  9.4  ,  19434, b'Diesel', b'Dealer', b'Manual', 0),\n",
       "       (b'brio', 2017,  4.8 ,  5.8  ,  19000, b'Petrol', b'Dealer', b'Manual', 0),\n",
       "       (b'city', 2015,  6.7 , 10.   ,  18828, b'Petrol', b'Dealer', b'Manual', 0),\n",
       "       (b'city', 2011,  4.1 , 10.   ,  69341, b'Petrol', b'Dealer', b'Manual', 0),\n",
       "       (b'city', 2009,  3.  , 10.   ,  69562, b'Petrol', b'Dealer', b'Manual', 0),\n",
       "       (b'city', 2015,  7.5 , 10.   ,  27600, b'Petrol', b'Dealer', b'Manual', 0),\n",
       "       (b'jazz', 2010,  2.25,  7.5  ,  61203, b'Petrol', b'Dealer', b'Manual', 0),\n",
       "       (b'brio', 2014,  5.3 ,  6.8  ,  16500, b'Petrol', b'Dealer', b'Manual', 0),\n",
       "       (b'city', 2016, 10.9 , 13.6  ,  30753, b'Petrol', b'Dealer', b'Automatic', 0),\n",
       "       (b'city', 2015,  8.65, 13.6  ,  24800, b'Petrol', b'Dealer', b'Manual', 0),\n",
       "       (b'city', 2015,  9.7 , 13.6  ,  21780, b'Petrol', b'Dealer', b'Manual', 0),\n",
       "       (b'jazz', 2016,  6.  ,  8.4  ,   4000, b'Petrol', b'Dealer', b'Manual', 0),\n",
       "       (b'city', 2014,  6.25, 13.6  ,  40126, b'Petrol', b'Dealer', b'Manual', 0),\n",
       "       (b'brio', 2015,  5.25,  5.9  ,  14465, b'Petrol', b'Dealer', b'Manual', 0),\n",
       "       (b'city', 2006,  2.1 ,  7.6  ,  50456, b'Petrol', b'Dealer', b'Manual', 0),\n",
       "       (b'city', 2014,  8.25, 14.   ,  63000, b'Diesel', b'Dealer', b'Manual', 0),\n",
       "       (b'city', 2016,  8.99, 11.8  ,   9010, b'Petrol', b'Dealer', b'Manual', 0),\n",
       "       (b'brio', 2013,  3.5 ,  5.9  ,   9800, b'Petrol', b'Dealer', b'Manual', 0),\n",
       "       (b'jazz', 2016,  7.4 ,  8.5  ,  15059, b'Petrol', b'Dealer', b'Automatic', 0),\n",
       "       (b'jazz', 2016,  5.65,  7.9  ,  28569, b'Petrol', b'Dealer', b'Manual', 0),\n",
       "       (b'amaze', 2015,  5.75,  7.5  ,  44000, b'Petrol', b'Dealer', b'Automatic', 0),\n",
       "       (b'city', 2015,  8.4 , 13.6  ,  34000, b'Petrol', b'Dealer', b'Manual', 0),\n",
       "       (b'city', 2016, 10.11, 13.6  ,  10980, b'Petrol', b'Dealer', b'Manual', 0),\n",
       "       (b'amaze', 2014,  4.5 ,  6.4  ,  19000, b'Petrol', b'Dealer', b'Manual', 0),\n",
       "       (b'brio', 2015,  5.4 ,  6.1  ,  31427, b'Petrol', b'Dealer', b'Manual', 0),\n",
       "       (b'jazz', 2016,  6.4 ,  8.4  ,  12000, b'Petrol', b'Dealer', b'Manual', 0),\n",
       "       (b'city', 2010,  3.25,  9.9  ,  38000, b'Petrol', b'Dealer', b'Manual', 0),\n",
       "       (b'amaze', 2014,  3.75,  6.8  ,  33019, b'Petrol', b'Dealer', b'Manual', 0),\n",
       "       (b'city', 2015,  8.55, 13.09 ,  60076, b'Diesel', b'Dealer', b'Manual', 0),\n",
       "       (b'city', 2016,  9.5 , 11.6  ,  33988, b'Diesel', b'Dealer', b'Manual', 0),\n",
       "       (b'brio', 2015,  4.  ,  5.9  ,  60000, b'Petrol', b'Dealer', b'Manual', 0),\n",
       "       (b'city', 2009,  3.35, 11.   ,  87934, b'Petrol', b'Dealer', b'Manual', 0),\n",
       "       (b'city', 2017, 11.5 , 12.5  ,   9000, b'Diesel', b'Dealer', b'Manual', 0),\n",
       "       (b'brio', 2016,  5.3 ,  5.9  ,   5464, b'Petrol', b'Dealer', b'Manual', 0)],\n",
       "      dtype=[('Car_Name', 'S25'), ('Year', '<i4'), ('Selling_Price', '<f8'), ('Present_Price', '<f8'), ('Kms_Driven', '<i4'), ('Fuel_Type', 'S6'), ('Seller_Type', 'S10'), ('Transmission', 'S9'), ('Owner', '<i4')])"
      ]
     },
     "execution_count": 136,
     "metadata": {},
     "output_type": "execute_result"
    }
   ],
   "source": [
    "cars"
   ]
  },
  {
   "cell_type": "code",
   "execution_count": 137,
   "metadata": {},
   "outputs": [
    {
     "data": {
      "text/plain": [
       "numpy.ndarray"
      ]
     },
     "execution_count": 137,
     "metadata": {},
     "output_type": "execute_result"
    }
   ],
   "source": [
    "type(cars)"
   ]
  },
  {
   "cell_type": "markdown",
   "metadata": {},
   "source": [
    "Loading a csv file using 'recfromcsv'. It is similar to 'genfromcsv' but in this function dtype=None by default"
   ]
  },
  {
   "cell_type": "code",
   "execution_count": 138,
   "metadata": {},
   "outputs": [
    {
     "name": "stderr",
     "output_type": "stream",
     "text": [
      "C:\\Users\\Admin\\Anaconda3\\lib\\site-packages\\numpy\\lib\\npyio.py:2278: VisibleDeprecationWarning: Reading unicode strings without specifying the encoding argument is deprecated. Set the encoding, use None for the system default.\n",
      "  output = genfromtxt(fname, **kwargs)\n"
     ]
    }
   ],
   "source": [
    "cars_1 = np.recfromcsv('car_data.csv')"
   ]
  },
  {
   "cell_type": "code",
   "execution_count": 139,
   "metadata": {},
   "outputs": [
    {
     "data": {
      "text/plain": [
       "rec.array([(b'ritz', 2014,  3.35,  5.59 ,  27000, b'Petrol', b'Dealer', b'Manual', 0),\n",
       "           (b'sx4', 2013,  4.75,  9.54 ,  43000, b'Diesel', b'Dealer', b'Manual', 0),\n",
       "           (b'ciaz', 2017,  7.25,  9.85 ,   6900, b'Petrol', b'Dealer', b'Manual', 0),\n",
       "           (b'wagon r', 2011,  2.85,  4.15 ,   5200, b'Petrol', b'Dealer', b'Manual', 0),\n",
       "           (b'swift', 2014,  4.6 ,  6.87 ,  42450, b'Diesel', b'Dealer', b'Manual', 0),\n",
       "           (b'vitara brezza', 2018,  9.25,  9.83 ,   2071, b'Diesel', b'Dealer', b'Manual', 0),\n",
       "           (b'ciaz', 2015,  6.75,  8.12 ,  18796, b'Petrol', b'Dealer', b'Manual', 0),\n",
       "           (b's cross', 2015,  6.5 ,  8.61 ,  33429, b'Diesel', b'Dealer', b'Manual', 0),\n",
       "           (b'ciaz', 2016,  8.75,  8.89 ,  20273, b'Diesel', b'Dealer', b'Manual', 0),\n",
       "           (b'ciaz', 2015,  7.45,  8.92 ,  42367, b'Diesel', b'Dealer', b'Manual', 0),\n",
       "           (b'alto 800', 2017,  2.85,  3.6  ,   2135, b'Petrol', b'Dealer', b'Manual', 0),\n",
       "           (b'ciaz', 2015,  6.85, 10.38 ,  51000, b'Diesel', b'Dealer', b'Manual', 0),\n",
       "           (b'ciaz', 2015,  7.5 ,  9.94 ,  15000, b'Petrol', b'Dealer', b'Automatic', 0),\n",
       "           (b'ertiga', 2015,  6.1 ,  7.71 ,  26000, b'Petrol', b'Dealer', b'Manual', 0),\n",
       "           (b'dzire', 2009,  2.25,  7.21 ,  77427, b'Petrol', b'Dealer', b'Manual', 0),\n",
       "           (b'ertiga', 2016,  7.75, 10.79 ,  43000, b'Diesel', b'Dealer', b'Manual', 0),\n",
       "           (b'ertiga', 2015,  7.25, 10.79 ,  41678, b'Diesel', b'Dealer', b'Manual', 0),\n",
       "           (b'ertiga', 2016,  7.75, 10.79 ,  43000, b'Diesel', b'Dealer', b'Manual', 0),\n",
       "           (b'wagon r', 2015,  3.25,  5.09 ,  35500, b'CNG', b'Dealer', b'Manual', 0),\n",
       "           (b'sx4', 2010,  2.65,  7.98 ,  41442, b'Petrol', b'Dealer', b'Manual', 0),\n",
       "           (b'alto k10', 2016,  2.85,  3.95 ,  25000, b'Petrol', b'Dealer', b'Manual', 0),\n",
       "           (b'ignis', 2017,  4.9 ,  5.71 ,   2400, b'Petrol', b'Dealer', b'Manual', 0),\n",
       "           (b'sx4', 2011,  4.4 ,  8.01 ,  50000, b'Petrol', b'Dealer', b'Automatic', 0),\n",
       "           (b'alto k10', 2014,  2.5 ,  3.46 ,  45280, b'Petrol', b'Dealer', b'Manual', 0),\n",
       "           (b'wagon r', 2013,  2.9 ,  4.41 ,  56879, b'Petrol', b'Dealer', b'Manual', 0),\n",
       "           (b'swift', 2011,  3.  ,  4.99 ,  20000, b'Petrol', b'Dealer', b'Manual', 0),\n",
       "           (b'swift', 2013,  4.15,  5.87 ,  55138, b'Petrol', b'Dealer', b'Manual', 0),\n",
       "           (b'swift', 2017,  6.  ,  6.49 ,  16200, b'Petrol', b'Individual', b'Manual', 0),\n",
       "           (b'alto k10', 2010,  1.95,  3.95 ,  44542, b'Petrol', b'Dealer', b'Manual', 0),\n",
       "           (b'ciaz', 2015,  7.45, 10.38 ,  45000, b'Diesel', b'Dealer', b'Manual', 0),\n",
       "           (b'ritz', 2012,  3.1 ,  5.98 ,  51439, b'Diesel', b'Dealer', b'Manual', 0),\n",
       "           (b'ritz', 2011,  2.35,  4.89 ,  54200, b'Petrol', b'Dealer', b'Manual', 0),\n",
       "           (b'swift', 2014,  4.95,  7.49 ,  39000, b'Diesel', b'Dealer', b'Manual', 0),\n",
       "           (b'ertiga', 2014,  6.  ,  9.95 ,  45000, b'Diesel', b'Dealer', b'Manual', 0),\n",
       "           (b'dzire', 2014,  5.5 ,  8.06 ,  45000, b'Diesel', b'Dealer', b'Manual', 0),\n",
       "           (b'sx4', 2011,  2.95,  7.74 ,  49998, b'CNG', b'Dealer', b'Manual', 0),\n",
       "           (b'dzire', 2015,  4.65,  7.2  ,  48767, b'Petrol', b'Dealer', b'Manual', 0),\n",
       "           (b'800', 2003,  0.35,  2.28 , 127000, b'Petrol', b'Individual', b'Manual', 0),\n",
       "           (b'alto k10', 2016,  3.  ,  3.76 ,  10079, b'Petrol', b'Dealer', b'Manual', 0),\n",
       "           (b'sx4', 2003,  2.25,  7.98 ,  62000, b'Petrol', b'Dealer', b'Manual', 0),\n",
       "           (b'baleno', 2016,  5.85,  7.87 ,  24524, b'Petrol', b'Dealer', b'Automatic', 0),\n",
       "           (b'alto k10', 2014,  2.55,  3.98 ,  46706, b'Petrol', b'Dealer', b'Manual', 0),\n",
       "           (b'sx4', 2008,  1.95,  7.15 ,  58000, b'Petrol', b'Dealer', b'Manual', 0),\n",
       "           (b'dzire', 2014,  5.5 ,  8.06 ,  45780, b'Diesel', b'Dealer', b'Manual', 0),\n",
       "           (b'omni', 2012,  1.25,  2.69 ,  50000, b'Petrol', b'Dealer', b'Manual', 0),\n",
       "           (b'ciaz', 2014,  7.5 , 12.04 ,  15000, b'Petrol', b'Dealer', b'Automatic', 0),\n",
       "           (b'ritz', 2013,  2.65,  4.89 ,  64532, b'Petrol', b'Dealer', b'Manual', 0),\n",
       "           (b'wagon r', 2006,  1.05,  4.15 ,  65000, b'Petrol', b'Dealer', b'Manual', 0),\n",
       "           (b'ertiga', 2015,  5.8 ,  7.71 ,  25870, b'Petrol', b'Dealer', b'Manual', 0),\n",
       "           (b'ciaz', 2017,  7.75,  9.29 ,  37000, b'Petrol', b'Dealer', b'Automatic', 0),\n",
       "           (b'fortuner', 2012, 14.9 , 30.61 , 104707, b'Diesel', b'Dealer', b'Automatic', 0),\n",
       "           (b'fortuner', 2015, 23.  , 30.61 ,  40000, b'Diesel', b'Dealer', b'Automatic', 0),\n",
       "           (b'innova', 2017, 18.  , 19.77 ,  15000, b'Diesel', b'Dealer', b'Automatic', 0),\n",
       "           (b'fortuner', 2013, 16.  , 30.61 , 135000, b'Diesel', b'Individual', b'Automatic', 0),\n",
       "           (b'innova', 2005,  2.75, 10.21 ,  90000, b'Petrol', b'Individual', b'Manual', 0),\n",
       "           (b'corolla altis', 2009,  3.6 , 15.04 ,  70000, b'Petrol', b'Dealer', b'Automatic', 0),\n",
       "           (b'etios cross', 2015,  4.5 ,  7.27 ,  40534, b'Petrol', b'Dealer', b'Manual', 0),\n",
       "           (b'corolla altis', 2010,  4.75, 18.54 ,  50000, b'Petrol', b'Dealer', b'Manual', 0),\n",
       "           (b'etios g', 2014,  4.1 ,  6.8  ,  39485, b'Petrol', b'Dealer', b'Manual', 1),\n",
       "           (b'fortuner', 2014, 19.99, 35.96 ,  41000, b'Diesel', b'Dealer', b'Automatic', 0),\n",
       "           (b'corolla altis', 2013,  6.95, 18.61 ,  40001, b'Petrol', b'Dealer', b'Manual', 0),\n",
       "           (b'etios cross', 2015,  4.5 ,  7.7  ,  40588, b'Petrol', b'Dealer', b'Manual', 0),\n",
       "           (b'fortuner', 2014, 18.75, 35.96 ,  78000, b'Diesel', b'Dealer', b'Automatic', 0),\n",
       "           (b'fortuner', 2015, 23.5 , 35.96 ,  47000, b'Diesel', b'Dealer', b'Automatic', 0),\n",
       "           (b'fortuner', 2017, 33.  , 36.23 ,   6000, b'Diesel', b'Dealer', b'Automatic', 0),\n",
       "           (b'etios liva', 2014,  4.75,  6.95 ,  45000, b'Diesel', b'Dealer', b'Manual', 0),\n",
       "           (b'innova', 2017, 19.75, 23.15 ,  11000, b'Petrol', b'Dealer', b'Automatic', 0),\n",
       "           (b'fortuner', 2010,  9.25, 20.45 ,  59000, b'Diesel', b'Dealer', b'Manual', 0),\n",
       "           (b'corolla altis', 2011,  4.35, 13.74 ,  88000, b'Petrol', b'Dealer', b'Manual', 0),\n",
       "           (b'corolla altis', 2016, 14.25, 20.91 ,  12000, b'Petrol', b'Dealer', b'Manual', 0),\n",
       "           (b'etios liva', 2014,  3.95,  6.76 ,  71000, b'Diesel', b'Dealer', b'Manual', 0),\n",
       "           (b'corolla altis', 2011,  4.5 , 12.48 ,  45000, b'Diesel', b'Dealer', b'Manual', 0),\n",
       "           (b'corolla altis', 2013,  7.45, 18.61 ,  56001, b'Petrol', b'Dealer', b'Manual', 0),\n",
       "           (b'etios liva', 2011,  2.65,  5.71 ,  43000, b'Petrol', b'Dealer', b'Manual', 0),\n",
       "           (b'etios cross', 2014,  4.9 ,  8.93 ,  83000, b'Diesel', b'Dealer', b'Manual', 0),\n",
       "           (b'etios g', 2015,  3.95,  6.8  ,  36000, b'Petrol', b'Dealer', b'Manual', 0),\n",
       "           (b'corolla altis', 2013,  5.5 , 14.68 ,  72000, b'Petrol', b'Dealer', b'Manual', 0),\n",
       "           (b'corolla', 2004,  1.5 , 12.35 , 135154, b'Petrol', b'Dealer', b'Automatic', 0),\n",
       "           (b'corolla altis', 2010,  5.25, 22.83 ,  80000, b'Petrol', b'Dealer', b'Automatic', 0),\n",
       "           (b'fortuner', 2012, 14.5 , 30.61 ,  89000, b'Diesel', b'Dealer', b'Automatic', 0),\n",
       "           (b'corolla altis', 2016, 14.73, 14.89 ,  23000, b'Diesel', b'Dealer', b'Manual', 0),\n",
       "           (b'etios gd', 2015,  4.75,  7.85 ,  40000, b'Diesel', b'Dealer', b'Manual', 0),\n",
       "           (b'innova', 2017, 23.  , 25.39 ,  15000, b'Diesel', b'Dealer', b'Automatic', 0),\n",
       "           (b'innova', 2015, 12.5 , 13.46 ,  38000, b'Diesel', b'Dealer', b'Manual', 0),\n",
       "           (b'innova', 2005,  3.49, 13.46 , 197176, b'Diesel', b'Dealer', b'Manual', 0),\n",
       "           (b'camry', 2006,  2.5 , 23.73 , 142000, b'Petrol', b'Individual', b'Automatic', 3),\n",
       "           (b'land cruiser', 2010, 35.  , 92.6  ,  78000, b'Diesel', b'Dealer', b'Manual', 0),\n",
       "           (b'corolla altis', 2012,  5.9 , 13.74 ,  56000, b'Petrol', b'Dealer', b'Manual', 0),\n",
       "           (b'etios liva', 2013,  3.45,  6.05 ,  47000, b'Petrol', b'Dealer', b'Manual', 0),\n",
       "           (b'etios g', 2014,  4.75,  6.76 ,  40000, b'Petrol', b'Dealer', b'Manual', 0),\n",
       "           (b'corolla altis', 2009,  3.8 , 18.61 ,  62000, b'Petrol', b'Dealer', b'Manual', 0),\n",
       "           (b'innova', 2014, 11.25, 16.09 ,  58242, b'Diesel', b'Dealer', b'Manual', 0),\n",
       "           (b'innova', 2005,  3.51, 13.7  ,  75000, b'Petrol', b'Dealer', b'Manual', 0),\n",
       "           (b'fortuner', 2015, 23.  , 30.61 ,  40000, b'Diesel', b'Dealer', b'Automatic', 0),\n",
       "           (b'corolla altis', 2008,  4.  , 22.78 ,  89000, b'Petrol', b'Dealer', b'Automatic', 0),\n",
       "           (b'corolla altis', 2012,  5.85, 18.61 ,  72000, b'Petrol', b'Dealer', b'Manual', 0),\n",
       "           (b'innova', 2016, 20.75, 25.39 ,  29000, b'Diesel', b'Dealer', b'Automatic', 0),\n",
       "           (b'corolla altis', 2017, 17.  , 18.64 ,   8700, b'Petrol', b'Dealer', b'Manual', 0),\n",
       "           (b'corolla altis', 2013,  7.05, 18.61 ,  45000, b'Petrol', b'Dealer', b'Manual', 0),\n",
       "           (b'fortuner', 2010,  9.65, 20.45 ,  50024, b'Diesel', b'Dealer', b'Manual', 0),\n",
       "           (b'Royal Enfield Thunder 500', 2016,  1.75,  1.9  ,   3000, b'Petrol', b'Individual', b'Manual', 0),\n",
       "           (b'UM Renegade Mojave', 2017,  1.7 ,  1.82 ,   1400, b'Petrol', b'Individual', b'Manual', 0),\n",
       "           (b'KTM RC200', 2017,  1.65,  1.78 ,   4000, b'Petrol', b'Individual', b'Manual', 0),\n",
       "           (b'Bajaj Dominar 400', 2017,  1.45,  1.6  ,   1200, b'Petrol', b'Individual', b'Manual', 0),\n",
       "           (b'Royal Enfield Classic 350', 2017,  1.35,  1.47 ,   4100, b'Petrol', b'Individual', b'Manual', 0),\n",
       "           (b'KTM RC390', 2015,  1.35,  2.37 ,  21700, b'Petrol', b'Individual', b'Manual', 0),\n",
       "           (b'Hyosung GT250R', 2014,  1.35,  3.45 ,  16500, b'Petrol', b'Individual', b'Manual', 1),\n",
       "           (b'Royal Enfield Thunder 350', 2013,  1.25,  1.5  ,  15000, b'Petrol', b'Individual', b'Manual', 0),\n",
       "           (b'Royal Enfield Thunder 350', 2016,  1.2 ,  1.5  ,  18000, b'Petrol', b'Individual', b'Manual', 0),\n",
       "           (b'Royal Enfield Classic 350', 2017,  1.2 ,  1.47 ,  11000, b'Petrol', b'Individual', b'Manual', 0),\n",
       "           (b'KTM RC200', 2016,  1.2 ,  1.78 ,   6000, b'Petrol', b'Individual', b'Manual', 0),\n",
       "           (b'Royal Enfield Thunder 350', 2016,  1.15,  1.5  ,   8700, b'Petrol', b'Individual', b'Manual', 0),\n",
       "           (b'KTM 390 Duke ', 2014,  1.15,  2.4  ,   7000, b'Petrol', b'Individual', b'Manual', 0),\n",
       "           (b'Mahindra Mojo XT300', 2016,  1.15,  1.4  ,  35000, b'Petrol', b'Individual', b'Manual', 0),\n",
       "           (b'Royal Enfield Classic 350', 2015,  1.15,  1.47 ,  17000, b'Petrol', b'Individual', b'Manual', 0),\n",
       "           (b'Royal Enfield Classic 350', 2015,  1.11,  1.47 ,  17500, b'Petrol', b'Individual', b'Manual', 0),\n",
       "           (b'Royal Enfield Classic 350', 2013,  1.1 ,  1.47 ,  33000, b'Petrol', b'Individual', b'Manual', 0),\n",
       "           (b'Royal Enfield Thunder 500', 2015,  1.1 ,  1.9  ,  14000, b'Petrol', b'Individual', b'Manual', 0),\n",
       "           (b'Royal Enfield Classic 350', 2015,  1.1 ,  1.47 ,  26000, b'Petrol', b'Individual', b'Manual', 0),\n",
       "           (b'Royal Enfield Thunder 500', 2013,  1.05,  1.9  ,   5400, b'Petrol', b'Individual', b'Manual', 0),\n",
       "           (b'Bajaj Pulsar RS200', 2016,  1.05,  1.26 ,   5700, b'Petrol', b'Individual', b'Manual', 0),\n",
       "           (b'Royal Enfield Thunder 350', 2011,  1.05,  1.5  ,   6900, b'Petrol', b'Individual', b'Manual', 0),\n",
       "           (b'Royal Enfield Bullet 350', 2016,  1.05,  1.17 ,   6000, b'Petrol', b'Individual', b'Manual', 0),\n",
       "           (b'Royal Enfield Classic 350', 2013,  1.  ,  1.47 ,  46500, b'Petrol', b'Individual', b'Manual', 0),\n",
       "           (b'Royal Enfield Classic 500', 2012,  0.95,  1.75 ,  11500, b'Petrol', b'Individual', b'Manual', 0),\n",
       "           (b'Royal Enfield Classic 500', 2009,  0.9 ,  1.75 ,  40000, b'Petrol', b'Individual', b'Manual', 0),\n",
       "           (b'Bajaj Avenger 220', 2017,  0.9 ,  0.95 ,   1300, b'Petrol', b'Individual', b'Manual', 0),\n",
       "           (b'Bajaj Avenger 150', 2016,  0.75,  0.8  ,   7000, b'Petrol', b'Individual', b'Manual', 0),\n",
       "           (b'Honda CB Hornet 160R', 2017,  0.8 ,  0.87 ,   3000, b'Petrol', b'Individual', b'Manual', 0),\n",
       "           (b'Yamaha FZ S V 2.0', 2017,  0.78,  0.84 ,   5000, b'Petrol', b'Individual', b'Manual', 0),\n",
       "           (b'Honda CB Hornet 160R', 2017,  0.75,  0.87 ,  11000, b'Petrol', b'Individual', b'Manual', 0),\n",
       "           (b'Yamaha FZ 16', 2015,  0.75,  0.82 ,  18000, b'Petrol', b'Individual', b'Manual', 0),\n",
       "           (b'Bajaj Avenger 220', 2017,  0.75,  0.95 ,   3500, b'Petrol', b'Individual', b'Manual', 0),\n",
       "           (b'Bajaj Avenger 220', 2016,  0.72,  0.95 ,    500, b'Petrol', b'Individual', b'Manual', 0),\n",
       "           (b'TVS Apache RTR 160', 2017,  0.65,  0.81 ,  11800, b'Petrol', b'Individual', b'Manual', 0),\n",
       "           (b'Bajaj Pulsar 150', 2015,  0.65,  0.74 ,   5000, b'Petrol', b'Individual', b'Manual', 0),\n",
       "           (b'Honda CBR 150', 2014,  0.65,  1.2  ,  23500, b'Petrol', b'Individual', b'Manual', 0),\n",
       "           (b'Hero Extreme', 2013,  0.65,  0.787,  16000, b'Petrol', b'Individual', b'Manual', 0),\n",
       "           (b'Honda CB Hornet 160R', 2016,  0.6 ,  0.87 ,  15000, b'Petrol', b'Individual', b'Manual', 0),\n",
       "           (b'Bajaj Avenger 220 dtsi', 2015,  0.6 ,  0.95 ,  16600, b'Petrol', b'Individual', b'Manual', 0),\n",
       "           (b'Honda CBR 150', 2013,  0.6 ,  1.2  ,  32000, b'Petrol', b'Individual', b'Manual', 0),\n",
       "           (b'Bajaj Avenger 150 street', 2016,  0.6 ,  0.8  ,  20000, b'Petrol', b'Individual', b'Manual', 0),\n",
       "           (b'Yamaha FZ  v 2.0', 2015,  0.6 ,  0.84 ,  29000, b'Petrol', b'Individual', b'Manual', 0),\n",
       "           (b'Yamaha FZ  v 2.0', 2016,  0.6 ,  0.84 ,  25000, b'Petrol', b'Individual', b'Manual', 0),\n",
       "           (b'Bajaj Pulsar  NS 200', 2014,  0.6 ,  0.99 ,  25000, b'Petrol', b'Individual', b'Manual', 0),\n",
       "           (b'TVS Apache RTR 160', 2012,  0.6 ,  0.81 ,  19000, b'Petrol', b'Individual', b'Manual', 0),\n",
       "           (b'Hero Extreme', 2014,  0.55,  0.787,  15000, b'Petrol', b'Individual', b'Manual', 0),\n",
       "           (b'Yamaha FZ S V 2.0', 2015,  0.55,  0.84 ,  58000, b'Petrol', b'Individual', b'Manual', 0),\n",
       "           (b'Bajaj Pulsar 220 F', 2010,  0.52,  0.94 ,  45000, b'Petrol', b'Individual', b'Manual', 0),\n",
       "           (b'Bajaj Pulsar 220 F', 2016,  0.51,  0.94 ,  24000, b'Petrol', b'Individual', b'Manual', 0),\n",
       "           (b'TVS Apache RTR 180', 2011,  0.5 ,  0.826,   6000, b'Petrol', b'Individual', b'Manual', 0),\n",
       "           (b'Hero Passion X pro', 2016,  0.5 ,  0.55 ,  31000, b'Petrol', b'Individual', b'Manual', 0),\n",
       "           (b'Bajaj Pulsar NS 200', 2012,  0.5 ,  0.99 ,  13000, b'Petrol', b'Individual', b'Manual', 0),\n",
       "           (b'Bajaj Pulsar NS 200', 2013,  0.5 ,  0.99 ,  45000, b'Petrol', b'Individual', b'Manual', 0),\n",
       "           (b'Yamaha Fazer ', 2014,  0.5 ,  0.88 ,   8000, b'Petrol', b'Individual', b'Manual', 0),\n",
       "           (b'Honda Activa 4G', 2017,  0.48,  0.51 ,   4300, b'Petrol', b'Individual', b'Automatic', 0),\n",
       "           (b'TVS Sport ', 2017,  0.48,  0.52 ,  15000, b'Petrol', b'Individual', b'Manual', 0),\n",
       "           (b'Yamaha FZ S V 2.0', 2015,  0.48,  0.84 ,  23000, b'Petrol', b'Individual', b'Manual', 0),\n",
       "           (b'Honda Dream Yuga ', 2017,  0.48,  0.54 ,   8600, b'Petrol', b'Individual', b'Manual', 0),\n",
       "           (b'Honda Activa 4G', 2017,  0.45,  0.51 ,   4000, b'Petrol', b'Individual', b'Automatic', 0),\n",
       "           (b'Bajaj Avenger Street 220', 2011,  0.45,  0.95 ,  24000, b'Petrol', b'Individual', b'Manual', 0),\n",
       "           (b'TVS Apache RTR 180', 2014,  0.45,  0.826,  23000, b'Petrol', b'Individual', b'Manual', 0),\n",
       "           (b'Bajaj Pulsar NS 200', 2012,  0.45,  0.99 ,  14500, b'Petrol', b'Individual', b'Manual', 0),\n",
       "           (b'Bajaj Avenger 220 dtsi', 2010,  0.45,  0.95 ,  27000, b'Petrol', b'Individual', b'Manual', 0),\n",
       "           (b'Hero Splender iSmart', 2016,  0.45,  0.54 ,  14000, b'Petrol', b'Individual', b'Manual', 0),\n",
       "           (b'Activa 3g', 2016,  0.45,  0.54 ,    500, b'Petrol', b'Individual', b'Automatic', 0),\n",
       "           (b'Hero Passion Pro', 2016,  0.45,  0.55 ,   1000, b'Petrol', b'Individual', b'Manual', 0),\n",
       "           (b'TVS Apache RTR 160', 2014,  0.42,  0.81 ,  42000, b'Petrol', b'Individual', b'Manual', 0),\n",
       "           (b'Honda CB Trigger', 2013,  0.42,  0.73 ,  12000, b'Petrol', b'Individual', b'Manual', 0),\n",
       "           (b'Hero Splender iSmart', 2015,  0.4 ,  0.54 ,  14000, b'Petrol', b'Individual', b'Manual', 0),\n",
       "           (b'Yamaha FZ S ', 2012,  0.4 ,  0.83 ,   5500, b'Petrol', b'Individual', b'Manual', 0),\n",
       "           (b'Hero Passion Pro', 2015,  0.4 ,  0.55 ,   6700, b'Petrol', b'Individual', b'Manual', 0),\n",
       "           (b'Bajaj Pulsar 135 LS', 2014,  0.4 ,  0.64 ,  13700, b'Petrol', b'Individual', b'Manual', 0),\n",
       "           (b'Activa 4g', 2017,  0.4 ,  0.51 ,   1300, b'Petrol', b'Individual', b'Automatic', 0),\n",
       "           (b'Honda CB Unicorn', 2015,  0.38,  0.72 ,  38600, b'Petrol', b'Individual', b'Manual', 0),\n",
       "           (b'Hero Honda CBZ extreme', 2011,  0.38,  0.787,  75000, b'Petrol', b'Individual', b'Manual', 0),\n",
       "           (b'Honda Karizma', 2011,  0.35,  1.05 ,  30000, b'Petrol', b'Individual', b'Manual', 0),\n",
       "           (b'Honda Activa 125', 2016,  0.35,  0.57 ,  24000, b'Petrol', b'Individual', b'Automatic', 0),\n",
       "           (b'TVS Jupyter', 2014,  0.35,  0.52 ,  19000, b'Petrol', b'Individual', b'Automatic', 0),\n",
       "           (b'Honda Karizma', 2010,  0.31,  1.05 , 213000, b'Petrol', b'Individual', b'Manual', 0),\n",
       "           (b'Hero Honda Passion Pro', 2012,  0.3 ,  0.51 ,  60000, b'Petrol', b'Individual', b'Manual', 0),\n",
       "           (b'Hero Splender Plus', 2016,  0.3 ,  0.48 ,  50000, b'Petrol', b'Individual', b'Manual', 0),\n",
       "           (b'Honda CB Shine', 2013,  0.3 ,  0.58 ,  30000, b'Petrol', b'Individual', b'Manual', 0),\n",
       "           (b'Bajaj Discover 100', 2013,  0.27,  0.47 ,  21000, b'Petrol', b'Individual', b'Manual', 0),\n",
       "           (b'Bajaj Pulsar 150', 2008,  0.25,  0.75 ,  26000, b'Petrol', b'Individual', b'Manual', 1),\n",
       "           (b'Suzuki Access 125', 2008,  0.25,  0.58 ,   1900, b'Petrol', b'Individual', b'Automatic', 0),\n",
       "           (b'TVS Wego', 2010,  0.25,  0.52 ,  22000, b'Petrol', b'Individual', b'Automatic', 0),\n",
       "           (b'Honda CB twister', 2013,  0.25,  0.51 ,  32000, b'Petrol', b'Individual', b'Manual', 0),\n",
       "           (b'Hero Glamour', 2013,  0.25,  0.57 ,  18000, b'Petrol', b'Individual', b'Manual', 0),\n",
       "           (b'Hero Super Splendor', 2005,  0.2 ,  0.57 ,  55000, b'Petrol', b'Individual', b'Manual', 0),\n",
       "           (b'Bajaj Pulsar 150', 2008,  0.2 ,  0.75 ,  60000, b'Petrol', b'Individual', b'Manual', 0),\n",
       "           (b'Bajaj Discover 125', 2012,  0.2 ,  0.57 ,  25000, b'Petrol', b'Individual', b'Manual', 1),\n",
       "           (b'Hero Hunk', 2007,  0.2 ,  0.75 ,  49000, b'Petrol', b'Individual', b'Manual', 1),\n",
       "           (b'Hero  Ignitor Disc', 2013,  0.2 ,  0.65 ,  24000, b'Petrol', b'Individual', b'Manual', 1),\n",
       "           (b'Hero  CBZ Xtreme', 2008,  0.2 ,  0.787,  50000, b'Petrol', b'Individual', b'Manual', 0),\n",
       "           (b'Bajaj  ct 100', 2015,  0.18,  0.32 ,  35000, b'Petrol', b'Individual', b'Manual', 0),\n",
       "           (b'Activa 3g', 2008,  0.17,  0.52 , 500000, b'Petrol', b'Individual', b'Automatic', 0),\n",
       "           (b'Honda CB twister', 2010,  0.16,  0.51 ,  33000, b'Petrol', b'Individual', b'Manual', 0),\n",
       "           (b'Bajaj Discover 125', 2011,  0.15,  0.57 ,  35000, b'Petrol', b'Individual', b'Manual', 1),\n",
       "           (b'Honda CB Shine', 2007,  0.12,  0.58 ,  53000, b'Petrol', b'Individual', b'Manual', 0),\n",
       "           (b'Bajaj Pulsar 150', 2006,  0.1 ,  0.75 ,  92233, b'Petrol', b'Individual', b'Manual', 0),\n",
       "           (b'i20', 2010,  3.25,  6.79 ,  58000, b'Diesel', b'Dealer', b'Manual', 1),\n",
       "           (b'grand i10', 2015,  4.4 ,  5.7  ,  28200, b'Petrol', b'Dealer', b'Manual', 0),\n",
       "           (b'i10', 2011,  2.95,  4.6  ,  53460, b'Petrol', b'Dealer', b'Manual', 0),\n",
       "           (b'eon', 2015,  2.75,  4.43 ,  28282, b'Petrol', b'Dealer', b'Manual', 0),\n",
       "           (b'grand i10', 2016,  5.25,  5.7  ,   3493, b'Petrol', b'Dealer', b'Manual', 1),\n",
       "           (b'xcent', 2017,  5.75,  7.13 ,  12479, b'Petrol', b'Dealer', b'Manual', 0),\n",
       "           (b'grand i10', 2015,  5.15,  5.7  ,  34797, b'Petrol', b'Dealer', b'Automatic', 0),\n",
       "           (b'i20', 2017,  7.9 ,  8.1  ,   3435, b'Petrol', b'Dealer', b'Manual', 0),\n",
       "           (b'grand i10', 2015,  4.85,  5.7  ,  21125, b'Diesel', b'Dealer', b'Manual', 0),\n",
       "           (b'i10', 2012,  3.1 ,  4.6  ,  35775, b'Petrol', b'Dealer', b'Manual', 0),\n",
       "           (b'elantra', 2015, 11.75, 14.79 ,  43535, b'Diesel', b'Dealer', b'Manual', 0),\n",
       "           (b'creta', 2016, 11.25, 13.6  ,  22671, b'Petrol', b'Dealer', b'Manual', 0),\n",
       "           (b'i20', 2011,  2.9 ,  6.79 ,  31604, b'Petrol', b'Dealer', b'Manual', 0),\n",
       "           (b'grand i10', 2017,  5.25,  5.7  ,  20114, b'Petrol', b'Dealer', b'Manual', 0),\n",
       "           (b'verna', 2012,  4.5 ,  9.4  ,  36100, b'Petrol', b'Dealer', b'Manual', 0),\n",
       "           (b'eon', 2016,  2.9 ,  4.43 ,  12500, b'Petrol', b'Dealer', b'Manual', 0),\n",
       "           (b'eon', 2016,  3.15,  4.43 ,  15000, b'Petrol', b'Dealer', b'Manual', 0),\n",
       "           (b'verna', 2014,  6.45,  9.4  ,  45078, b'Petrol', b'Dealer', b'Manual', 0),\n",
       "           (b'verna', 2012,  4.5 ,  9.4  ,  36000, b'Petrol', b'Dealer', b'Manual', 0),\n",
       "           (b'eon', 2017,  3.5 ,  4.43 ,  38488, b'Petrol', b'Dealer', b'Manual', 0),\n",
       "           (b'i20', 2013,  4.5 ,  6.79 ,  32000, b'Petrol', b'Dealer', b'Automatic', 0),\n",
       "           (b'i20', 2014,  6.  ,  7.6  ,  77632, b'Diesel', b'Dealer', b'Manual', 0),\n",
       "           (b'verna', 2015,  8.25,  9.4  ,  61381, b'Diesel', b'Dealer', b'Manual', 0),\n",
       "           (b'verna', 2013,  5.11,  9.4  ,  36198, b'Petrol', b'Dealer', b'Automatic', 0),\n",
       "           (b'i10', 2011,  2.7 ,  4.6  ,  22517, b'Petrol', b'Dealer', b'Manual', 0),\n",
       "           (b'grand i10', 2015,  5.25,  5.7  ,  24678, b'Petrol', b'Dealer', b'Manual', 0),\n",
       "           (b'i10', 2011,  2.55,  4.43 ,  57000, b'Petrol', b'Dealer', b'Manual', 0),\n",
       "           (b'verna', 2012,  4.95,  9.4  ,  60000, b'Diesel', b'Dealer', b'Manual', 0),\n",
       "           (b'i20', 2012,  3.1 ,  6.79 ,  52132, b'Diesel', b'Dealer', b'Manual', 0),\n",
       "           (b'verna', 2013,  6.15,  9.4  ,  45000, b'Diesel', b'Dealer', b'Manual', 0),\n",
       "           (b'verna', 2017,  9.25,  9.4  ,  15001, b'Petrol', b'Dealer', b'Manual', 0),\n",
       "           (b'elantra', 2015, 11.45, 14.79 ,  12900, b'Petrol', b'Dealer', b'Automatic', 0),\n",
       "           (b'grand i10', 2013,  3.9 ,  5.7  ,  53000, b'Diesel', b'Dealer', b'Manual', 0),\n",
       "           (b'grand i10', 2015,  5.5 ,  5.7  ,   4492, b'Petrol', b'Dealer', b'Manual', 0),\n",
       "           (b'verna', 2017,  9.1 ,  9.4  ,  15141, b'Petrol', b'Dealer', b'Manual', 0),\n",
       "           (b'eon', 2016,  3.1 ,  4.43 ,  11849, b'Petrol', b'Dealer', b'Manual', 0),\n",
       "           (b'creta', 2015, 11.25, 13.6  ,  68000, b'Diesel', b'Dealer', b'Manual', 0),\n",
       "           (b'verna', 2013,  4.8 ,  9.4  ,  60241, b'Petrol', b'Dealer', b'Manual', 0),\n",
       "           (b'eon', 2012,  2.  ,  4.43 ,  23709, b'Petrol', b'Dealer', b'Manual', 0),\n",
       "           (b'verna', 2012,  5.35,  9.4  ,  32322, b'Diesel', b'Dealer', b'Manual', 0),\n",
       "           (b'xcent', 2015,  4.75,  7.13 ,  35866, b'Petrol', b'Dealer', b'Manual', 1),\n",
       "           (b'xcent', 2014,  4.4 ,  7.13 ,  34000, b'Petrol', b'Dealer', b'Manual', 0),\n",
       "           (b'i20', 2016,  6.25,  7.6  ,   7000, b'Petrol', b'Dealer', b'Manual', 0),\n",
       "           (b'verna', 2013,  5.95,  9.4  ,  49000, b'Diesel', b'Dealer', b'Manual', 0),\n",
       "           (b'verna', 2012,  5.2 ,  9.4  ,  71000, b'Diesel', b'Dealer', b'Manual', 0),\n",
       "           (b'i20', 2012,  3.75,  6.79 ,  35000, b'Petrol', b'Dealer', b'Manual', 0),\n",
       "           (b'verna', 2015,  5.95,  9.4  ,  36000, b'Petrol', b'Dealer', b'Manual', 0),\n",
       "           (b'i10', 2013,  4.  ,  4.6  ,  30000, b'Petrol', b'Dealer', b'Manual', 0),\n",
       "           (b'i20', 2016,  5.25,  7.6  ,  17000, b'Petrol', b'Dealer', b'Manual', 0),\n",
       "           (b'creta', 2016, 12.9 , 13.6  ,  35934, b'Diesel', b'Dealer', b'Manual', 0),\n",
       "           (b'city', 2013,  5.  ,  9.9  ,  56701, b'Petrol', b'Dealer', b'Manual', 0),\n",
       "           (b'brio', 2015,  5.4 ,  6.82 ,  31427, b'Petrol', b'Dealer', b'Automatic', 0),\n",
       "           (b'city', 2014,  7.2 ,  9.9  ,  48000, b'Diesel', b'Dealer', b'Manual', 0),\n",
       "           (b'city', 2013,  5.25,  9.9  ,  54242, b'Petrol', b'Dealer', b'Manual', 0),\n",
       "           (b'brio', 2012,  3.  ,  5.35 ,  53675, b'Petrol', b'Dealer', b'Manual', 0),\n",
       "           (b'city', 2016, 10.25, 13.6  ,  49562, b'Petrol', b'Dealer', b'Manual', 0),\n",
       "           (b'city', 2015,  8.5 , 13.6  ,  40324, b'Petrol', b'Dealer', b'Manual', 0),\n",
       "           (b'city', 2015,  8.4 , 13.6  ,  25000, b'Petrol', b'Dealer', b'Manual', 0),\n",
       "           (b'amaze', 2014,  3.9 ,  7.   ,  36054, b'Petrol', b'Dealer', b'Manual', 0),\n",
       "           (b'city', 2016,  9.15, 13.6  ,  29223, b'Petrol', b'Dealer', b'Manual', 0),\n",
       "           (b'brio', 2016,  5.5 ,  5.97 ,   5600, b'Petrol', b'Dealer', b'Manual', 0),\n",
       "           (b'amaze', 2015,  4.  ,  5.8  ,  40023, b'Petrol', b'Dealer', b'Manual', 0),\n",
       "           (b'jazz', 2016,  6.6 ,  7.7  ,  16002, b'Petrol', b'Dealer', b'Manual', 0),\n",
       "           (b'amaze', 2015,  4.  ,  7.   ,  40026, b'Petrol', b'Dealer', b'Manual', 0),\n",
       "           (b'jazz', 2017,  6.5 ,  8.7  ,  21200, b'Petrol', b'Dealer', b'Manual', 0),\n",
       "           (b'amaze', 2014,  3.65,  7.   ,  35000, b'Petrol', b'Dealer', b'Manual', 0),\n",
       "           (b'city', 2016,  8.35,  9.4  ,  19434, b'Diesel', b'Dealer', b'Manual', 0),\n",
       "           (b'brio', 2017,  4.8 ,  5.8  ,  19000, b'Petrol', b'Dealer', b'Manual', 0),\n",
       "           (b'city', 2015,  6.7 , 10.   ,  18828, b'Petrol', b'Dealer', b'Manual', 0),\n",
       "           (b'city', 2011,  4.1 , 10.   ,  69341, b'Petrol', b'Dealer', b'Manual', 0),\n",
       "           (b'city', 2009,  3.  , 10.   ,  69562, b'Petrol', b'Dealer', b'Manual', 0),\n",
       "           (b'city', 2015,  7.5 , 10.   ,  27600, b'Petrol', b'Dealer', b'Manual', 0),\n",
       "           (b'jazz', 2010,  2.25,  7.5  ,  61203, b'Petrol', b'Dealer', b'Manual', 0),\n",
       "           (b'brio', 2014,  5.3 ,  6.8  ,  16500, b'Petrol', b'Dealer', b'Manual', 0),\n",
       "           (b'city', 2016, 10.9 , 13.6  ,  30753, b'Petrol', b'Dealer', b'Automatic', 0),\n",
       "           (b'city', 2015,  8.65, 13.6  ,  24800, b'Petrol', b'Dealer', b'Manual', 0),\n",
       "           (b'city', 2015,  9.7 , 13.6  ,  21780, b'Petrol', b'Dealer', b'Manual', 0),\n",
       "           (b'jazz', 2016,  6.  ,  8.4  ,   4000, b'Petrol', b'Dealer', b'Manual', 0),\n",
       "           (b'city', 2014,  6.25, 13.6  ,  40126, b'Petrol', b'Dealer', b'Manual', 0),\n",
       "           (b'brio', 2015,  5.25,  5.9  ,  14465, b'Petrol', b'Dealer', b'Manual', 0),\n",
       "           (b'city', 2006,  2.1 ,  7.6  ,  50456, b'Petrol', b'Dealer', b'Manual', 0),\n",
       "           (b'city', 2014,  8.25, 14.   ,  63000, b'Diesel', b'Dealer', b'Manual', 0),\n",
       "           (b'city', 2016,  8.99, 11.8  ,   9010, b'Petrol', b'Dealer', b'Manual', 0),\n",
       "           (b'brio', 2013,  3.5 ,  5.9  ,   9800, b'Petrol', b'Dealer', b'Manual', 0),\n",
       "           (b'jazz', 2016,  7.4 ,  8.5  ,  15059, b'Petrol', b'Dealer', b'Automatic', 0),\n",
       "           (b'jazz', 2016,  5.65,  7.9  ,  28569, b'Petrol', b'Dealer', b'Manual', 0),\n",
       "           (b'amaze', 2015,  5.75,  7.5  ,  44000, b'Petrol', b'Dealer', b'Automatic', 0),\n",
       "           (b'city', 2015,  8.4 , 13.6  ,  34000, b'Petrol', b'Dealer', b'Manual', 0),\n",
       "           (b'city', 2016, 10.11, 13.6  ,  10980, b'Petrol', b'Dealer', b'Manual', 0),\n",
       "           (b'amaze', 2014,  4.5 ,  6.4  ,  19000, b'Petrol', b'Dealer', b'Manual', 0),\n",
       "           (b'brio', 2015,  5.4 ,  6.1  ,  31427, b'Petrol', b'Dealer', b'Manual', 0),\n",
       "           (b'jazz', 2016,  6.4 ,  8.4  ,  12000, b'Petrol', b'Dealer', b'Manual', 0),\n",
       "           (b'city', 2010,  3.25,  9.9  ,  38000, b'Petrol', b'Dealer', b'Manual', 0),\n",
       "           (b'amaze', 2014,  3.75,  6.8  ,  33019, b'Petrol', b'Dealer', b'Manual', 0),\n",
       "           (b'city', 2015,  8.55, 13.09 ,  60076, b'Diesel', b'Dealer', b'Manual', 0),\n",
       "           (b'city', 2016,  9.5 , 11.6  ,  33988, b'Diesel', b'Dealer', b'Manual', 0),\n",
       "           (b'brio', 2015,  4.  ,  5.9  ,  60000, b'Petrol', b'Dealer', b'Manual', 0),\n",
       "           (b'city', 2009,  3.35, 11.   ,  87934, b'Petrol', b'Dealer', b'Manual', 0),\n",
       "           (b'city', 2017, 11.5 , 12.5  ,   9000, b'Diesel', b'Dealer', b'Manual', 0),\n",
       "           (b'brio', 2016,  5.3 ,  5.9  ,   5464, b'Petrol', b'Dealer', b'Manual', 0)],\n",
       "          dtype=[('car_name', 'S25'), ('year', '<i4'), ('selling_price', '<f8'), ('present_price', '<f8'), ('kms_driven', '<i4'), ('fuel_type', 'S6'), ('seller_type', 'S10'), ('transmission', 'S9'), ('owner', '<i4')])"
      ]
     },
     "execution_count": 139,
     "metadata": {},
     "output_type": "execute_result"
    }
   ],
   "source": [
    "cars_1"
   ]
  },
  {
   "cell_type": "markdown",
   "metadata": {},
   "source": [
    "# Yayyy!!! Now I know NumPy"
   ]
  }
 ],
 "metadata": {
  "kernelspec": {
   "display_name": "Python 3",
   "language": "python",
   "name": "python3"
  },
  "language_info": {
   "codemirror_mode": {
    "name": "ipython",
    "version": 3
   },
   "file_extension": ".py",
   "mimetype": "text/x-python",
   "name": "python",
   "nbconvert_exporter": "python",
   "pygments_lexer": "ipython3",
   "version": "3.7.1"
  }
 },
 "nbformat": 4,
 "nbformat_minor": 2
}
